{
 "cells": [
  {
   "cell_type": "markdown",
   "metadata": {},
   "source": [
    "# FEniCS simulation of a cantilever beam"
   ]
  },
  {
   "cell_type": "markdown",
   "metadata": {},
   "source": [
    "The aim of this notebook is to setup a very simple FEniCS simulation. The framework is linear, plane strain elasticity. We model a cantilever beam ($\\ell$: total length; $d$: depth), subjected to its own weight ($\\rho$: mass density per unit volume; $g$: gravity) and tractions $\\bar T$ applied to the right end.\n",
    "\n",
    "The beam is homogenous and isotropic ($E$: Young modulus; $\\nu$: Poisson ratio) and clamped on the left end. Hooke's law reads\n",
    "\n",
    "\\begin{equation}\n",
    "\\sigma_{ij} = \\lambda\\varepsilon_{kk}\\delta_{ij}+2\\mu\\varepsilon_{ij},\n",
    "\\end{equation}\n",
    "\n",
    "where indices $i, j, k$ are restricted to $\\{1, 2\\}$ and $\\lambda$, $\\mu$ are the Lamé coefficients :\n",
    "\n",
    "\\begin{equation*}\n",
    "\\mu=\\frac{E}{2\\bigl(1+\\nu\\bigr)}\n",
    "\\quad\\text{and}\\quad\n",
    "\\lambda=\\frac{2\\mu\\nu}{1-2\\nu}.\n",
    "\\end{equation*}\n",
    "\n",
    "**Question:** how does Hooke's law read in *plane stress* elasticity?\n",
    "\n",
    "The variational formulation of the problem is the following:\n",
    "\n",
    "Find $u\\in \\mathcal{C}\\equiv\\{u: H^1(\\Omega), \\; u(x_1=0,x_2)=0\\}$ such that \n",
    "$\\forall v\\in \\mathcal{C}_0\\equiv \\mathcal{C}$\n",
    "\n",
    "\n",
    "\\begin{equation}\n",
    "\\int_\\Omega \\sigma(\\varepsilon(u)):\\varepsilon(v)\\,\\mathrm{d}x\\,\\mathrm{d}y =\n",
    "\\int_{\\partial\\Omega\\cap\\{x=\\ell\\}}\\overline{T}\\cdot v\\,\\mathrm{d} y\n",
    "-\\int_{\\Omega}\\rho g\\,e_y\\cdot v\\,\\mathrm{d} x\\,\\mathrm{d} y,\n",
    "\\end{equation}\n",
    "\n",
    "where $\\sigma(\\varepsilon)$ is the constitutive equation and $\\varepsilon(u)=\\mathrm{sym} (\\nabla u)$  "
   ]
  },
  {
   "cell_type": "code",
   "execution_count": 1,
   "metadata": {},
   "outputs": [],
   "source": [
    "import inspect\n",
    "\n",
    "import dolfin, fenics\n",
    "import IPython\n",
    "import matplotlib.pyplot as plt\n",
    "import numpy as np\n",
    "import pygments\n",
    "import scipy.integrate"
   ]
  },
  {
   "cell_type": "code",
   "execution_count": 2,
   "metadata": {},
   "outputs": [],
   "source": [
    "%matplotlib inline"
   ]
  },
  {
   "cell_type": "markdown",
   "metadata": {},
   "source": [
    "## Geometry and mesh"
   ]
  },
  {
   "cell_type": "code",
   "execution_count": 3,
   "metadata": {},
   "outputs": [],
   "source": [
    "ell = 1.0\n",
    "d = ell/20."
   ]
  },
  {
   "cell_type": "markdown",
   "metadata": {},
   "source": [
    "**Notes (programming practices)**: \n",
    "\n",
    "- Avoid using the letter `l` as a variable name, as it is too close to the digit `1`. We therefore used `ell`.\n",
    "    \n",
    "- Write `20.` instead of `20` when the number should be cast into real number. Otherwise you can obtain results like `43/20 = 2` and consequent subtle bugs in your code.\n",
    "    \n",
    "- Note than we leave a white space before and after the `=` sign in the assignement. This and several other coding convention greatly improve readability. A complete list of convention is given in [PEP8](https://www.python.org/dev/peps/pep-0008/). We will test that you follow these conventions."
   ]
  },
  {
   "cell_type": "markdown",
   "metadata": {},
   "source": [
    "The typical size of the cells of the mesh is ``h``. FEniCS provides tools to generate the mesh of shapes as simple as rectangles."
   ]
  },
  {
   "cell_type": "code",
   "execution_count": 4,
   "metadata": {},
   "outputs": [],
   "source": [
    "h = d/16.\n",
    "mesh = fenics.RectangleMesh(fenics.Point(0., -0.5*d), fenics.Point(ell, 0.5*d), int(ell/h), int(d/h))"
   ]
  },
  {
   "cell_type": "markdown",
   "metadata": {},
   "source": [
    "The first two arguments of the ``RectangleMesh`` constructor are the lower-left and upper-right corners of the rectangle to be meshed. The 3rd and 4th arguments are the number of elements along the x and y directions."
   ]
  },
  {
   "cell_type": "markdown",
   "metadata": {},
   "source": [
    "Note that within a jupyter notebook, interactive help can be displayed through the use of the question mark as follows. Press ``Esc`` to close the help window."
   ]
  },
  {
   "cell_type": "code",
   "execution_count": 5,
   "metadata": {},
   "outputs": [
    {
     "data": {
      "text/plain": [
       "\u001b[0;31mDocstring:\u001b[0m      DOLFIN Mesh object\n",
       "\u001b[0;31mInit docstring:\u001b[0m\n",
       "__init__(*args, **kwargs)\n",
       "Overloaded function.\n",
       "\n",
       "1. __init__(self: dolfin.cpp.generation.RectangleMesh, p0: dolfin::Point, p1: dolfin::Point, nx: int, ny: int, diagonal: str = 'right') -> None\n",
       "\n",
       "2. __init__(self: dolfin.cpp.generation.RectangleMesh, comm: MPICommWrapper, p0: dolfin::Point, p1: dolfin::Point, nx: int, ny: int, diagonal: str = 'right') -> None\n",
       "\u001b[0;31mType:\u001b[0m           pybind11_type\n",
       "\u001b[0;31mSubclasses:\u001b[0m     \n"
      ]
     },
     "metadata": {},
     "output_type": "display_data"
    }
   ],
   "source": [
    "fenics.RectangleMesh?"
   ]
  },
  {
   "cell_type": "markdown",
   "metadata": {},
   "source": [
    "Use a double question mark to get a more detailed documentation (if available)."
   ]
  },
  {
   "cell_type": "markdown",
   "metadata": {},
   "source": [
    "The mesh can be displayed as follows (use the pointer to rotate the mesh in 3d or zoom in)."
   ]
  },
  {
   "cell_type": "code",
   "execution_count": 6,
   "metadata": {
    "scrolled": true
   },
   "outputs": [],
   "source": [
    "#mesh"
   ]
  },
  {
   "cell_type": "markdown",
   "metadata": {},
   "source": [
    "3D rotating a 2D mesh does not make much sense. The mesh can be plotted non-interactively as follows."
   ]
  },
  {
   "cell_type": "code",
   "execution_count": 7,
   "metadata": {},
   "outputs": [
    {
     "data": {
      "text/plain": [
       "[<matplotlib.lines.Line2D at 0x1227d7630>,\n",
       " <matplotlib.lines.Line2D at 0x12286c8d0>]"
      ]
     },
     "execution_count": 7,
     "metadata": {},
     "output_type": "execute_result"
    },
    {
     "data": {
      "image/png": "[encoded data removed]",
      "text/plain": [
       "<Figure size 432x288 with 1 Axes>"
      ]
     },
     "metadata": {
      "needs_background": "light"
     },
     "output_type": "display_data"
    }
   ],
   "source": [
    "dolfin.plot(mesh)"
   ]
  },
  {
   "cell_type": "markdown",
   "metadata": {},
   "source": [
    "``RectangleMesh`` has a 6th argument, ``diagonal``, that can be set to ``'right'`` (default) or ``'left'``. Notice the difference:"
   ]
  },
  {
   "cell_type": "code",
   "execution_count": 8,
   "metadata": {},
   "outputs": [
    {
     "data": {
      "text/plain": [
       "[<matplotlib.lines.Line2D at 0x122b89da0>,\n",
       " <matplotlib.lines.Line2D at 0x122b89ef0>]"
      ]
     },
     "execution_count": 8,
     "metadata": {},
     "output_type": "execute_result"
    },
    {
     "data": {
      "image/png": "[encoded data removed]",
      "text/plain": [
       "<Figure size 432x288 with 1 Axes>"
      ]
     },
     "metadata": {
      "needs_background": "light"
     },
     "output_type": "display_data"
    },
    {
     "data": {
      "image/png": "[encoded data removed]",
      "text/plain": [
       "<Figure size 432x288 with 1 Axes>"
      ]
     },
     "metadata": {
      "needs_background": "light"
     },
     "output_type": "display_data"
    }
   ],
   "source": [
    "dolfin.plot(dolfin.RectangleMesh(dolfin.Point(0., 0.),\n",
    "                                 dolfin.Point(1., 1.),\n",
    "                                 4, 4, diagonal='right'))\n",
    "plt.figure()\n",
    "dolfin.plot(dolfin.RectangleMesh(dolfin.Point(0., 0.),\n",
    "                                 dolfin.Point(1., 1.),\n",
    "                                 4, 4, diagonal='left'))"
   ]
  },
  {
   "cell_type": "markdown",
   "metadata": {},
   "source": [
    "### Marking the boundaries"
   ]
  },
  {
   "cell_type": "markdown",
   "metadata": {},
   "source": [
    "In order to apply the various boundary conditions, it will be necessary to refer to specific sides of the mesh. The left and right borders are defined through [“callback functions”](https://en.wikipedia.org/wiki/Callback_%28computer_programming%29). A callback is a function to be passed as an argument to another function, which will then call the callback. In the present case, the callback is called to decide whether or not the node under consideration belongs to the specific border.\n",
    "\n",
    "The signature of these callback functions must follow the FEniCS prescriptions\n",
    "\n",
    "```python\n",
    "callback_function(x, on_boundary)\n",
    "```\n",
    "    \n",
    "where ``x`` is the array of coordinates of the point under consideration, while ``on_boundary`` is a boolean value that is ``True`` if the point belongs to the global boundary of the whole mesh. This second parameter is extremely useful, as it allows to quickly discard points that do not belong to the boundary (and therefore, certainly do not belong to the left or right boundaries!). In principle, we would like to define the function ``left`` as follows"
   ]
  },
  {
   "cell_type": "code",
   "execution_count": 9,
   "metadata": {},
   "outputs": [],
   "source": [
    "def left(x, on_boundary):\n",
    "    return x[0] == 0 and on_boundary"
   ]
  },
  {
   "cell_type": "markdown",
   "metadata": {},
   "source": [
    "However, the above implementation has two flaws\n",
    "\n",
    "1. Testing of exact equality is meaningless in floating-point arithmetics; see for example [What every computer scientist should know about Floating-Point Arithmetic](https://docs.oracle.com/cd/E19957-01/806-3568/ncg_goldberg.html]). It makes more sense to test wether the point is close to the boundary, up to a specified fraction of the element-size.\n",
    "2. The ordering of the logical ``and`` ought to be reverse, owing to [short-circuit evaluation](https://en.wikipedia.org/wiki/Short-circuit_evaluation).\n",
    "\n",
    "A much better implementation is the following"
   ]
  },
  {
   "cell_type": "code",
   "execution_count": 10,
   "metadata": {},
   "outputs": [],
   "source": [
    "atol = 1e-8*h"
   ]
  },
  {
   "cell_type": "code",
   "execution_count": 11,
   "metadata": {},
   "outputs": [],
   "source": [
    "def left(x, on_boundary):\n",
    "    return on_boundary and x[0] <= atol"
   ]
  },
  {
   "cell_type": "markdown",
   "metadata": {},
   "source": [
    "Note that in the above test, we do not need to check that ``x[0] >= -atol``. The final refinement is to use a ``CompiledSubdomain``. This means that the callback function is written in C++, rather than pure Python. This is the recommended approach, since it improves the execution speed, and also avoids some weird scoping issues."
   ]
  },
  {
   "cell_type": "code",
   "execution_count": 12,
   "metadata": {},
   "outputs": [],
   "source": [
    "left = dolfin.CompiledSubDomain('on_boundary && x[0] <= atol', atol=atol)"
   ]
  },
  {
   "cell_type": "markdown",
   "metadata": {},
   "source": [
    "**Notes:**\n",
    "- The above expression between quotes is effectively a C++ expression! It **must** follow C++ syntax. For more information, refer to the comment “String expressions must have valid C++ syntax!” in section  [Defining the boundary conditions](https://fenicsproject.org/pub/tutorial/html/._ftut1004.html#___sec29) of chapter [Fundamentals: Solving the Poisson equation](https://fenicsproject.org/pub/tutorial/html/._ftut1004.html#ch:fundamentals) of the [FEniCS tutorial](https://fenicsproject.org/pub/tutorial/html/ftut1.html).\n",
    "- Note how we managed to pass the parameter ``atol`` to the function thus defined. The value of this parameter can be retrieved and modified with the `get_property`/`set_property` methods (see below)"
   ]
  },
  {
   "cell_type": "code",
   "execution_count": 13,
   "metadata": {},
   "outputs": [
    {
     "data": {
      "text/plain": [
       "3.125e-11"
      ]
     },
     "execution_count": 13,
     "metadata": {},
     "output_type": "execute_result"
    }
   ],
   "source": [
    "left.get_property('atol')"
   ]
  },
  {
   "cell_type": "code",
   "execution_count": 14,
   "metadata": {},
   "outputs": [],
   "source": [
    "left.set_property('atol', atol)"
   ]
  },
  {
   "cell_type": "markdown",
   "metadata": {},
   "source": [
    "**Question: ** similarly, define the ``right`` function."
   ]
  },
  {
   "cell_type": "markdown",
   "metadata": {},
   "source": [
    "## Variational formulation"
   ]
  },
  {
   "cell_type": "markdown",
   "metadata": {},
   "source": [
    "### Discretization space"
   ]
  },
  {
   "cell_type": "markdown",
   "metadata": {},
   "source": [
    "We adopt a displacement-based approach, where the only unknowns are the displacements. We use linear interpolation; note that this is a vector problem, and the element is in fact a ``VectorElement``."
   ]
  },
  {
   "cell_type": "code",
   "execution_count": 15,
   "metadata": {},
   "outputs": [],
   "source": [
    "degree = 1\n",
    "element = dolfin.VectorElement('P', cell=mesh.ufl_cell(), degree=degree, dim=mesh.geometric_dimension())\n",
    "V = dolfin.FunctionSpace(mesh, element)"
   ]
  },
  {
   "cell_type": "markdown",
   "metadata": {},
   "source": [
    "### Strain-displacement and stress-strain operators"
   ]
  },
  {
   "cell_type": "markdown",
   "metadata": {},
   "source": [
    "The strain-displacement operator is the operator $u_i\\mapsto\\frac12\\bigl(\\partial_i u_j+\\partial_j u_i\\bigr)$, where $u_i$ are the components of the displacement. FEniCS implementation is straightforward."
   ]
  },
  {
   "cell_type": "code",
   "execution_count": 16,
   "metadata": {},
   "outputs": [],
   "source": [
    "def strain_displacement(u):\n",
    "    return dolfin.sym(dolfin.grad(u))"
   ]
  },
  {
   "cell_type": "markdown",
   "metadata": {},
   "source": [
    "The stress-strain operator is the constitutive law that maps the strain tensor $\\varepsilon$ onto the stress tensor $\\sigma$ through Hooke's law."
   ]
  },
  {
   "cell_type": "code",
   "execution_count": 17,
   "metadata": {},
   "outputs": [],
   "source": [
    "E = 1.0\n",
    "nu = 0.3\n",
    "\n",
    "I2 = dolfin.Identity(mesh.geometric_dimension())\n",
    "mu = dolfin.Constant(E/2./(1.+nu))\n",
    "lambda_ = dolfin.Constant(E*nu/(1.+nu)/(1.-2.*nu))\n",
    "\n",
    "def stress_strain(eps):\n",
    "    return lambda_*dolfin.tr(eps)*I2+2*mu*eps"
   ]
  },
  {
   "cell_type": "markdown",
   "metadata": {},
   "source": [
    "**Note:** ``lambda`` is a reserved keyword in Python. The common practice is to add a final underscore to define a variable called ``lambda_`` (see for example [Role of Underscore(_) in Python](https://www.datacamp.com/community/tutorials/role-underscore-python))."
   ]
  },
  {
   "cell_type": "markdown",
   "metadata": {},
   "source": [
    "**Question:** why did we set $E=1$?"
   ]
  },
  {
   "cell_type": "markdown",
   "metadata": {},
   "source": [
    "### Bilinear and linear forms"
   ]
  },
  {
   "cell_type": "markdown",
   "metadata": {},
   "source": [
    "The `UFL` (Unified Form Language) component provide a specific syntax to define variational forms, that are then used to automatically generate `C++` optimized codes to assemble matrices and vectors. We define in particular test and trial functions. "
   ]
  },
  {
   "cell_type": "code",
   "execution_count": 18,
   "metadata": {},
   "outputs": [],
   "source": [
    "u = dolfin.TrialFunction(V)\n",
    "v = dolfin.TestFunction(V)"
   ]
  },
  {
   "cell_type": "markdown",
   "metadata": {},
   "source": [
    "The left-hand side of the variational formulation is the bilinear form, which reads in the present case"
   ]
  },
  {
   "cell_type": "markdown",
   "metadata": {},
   "source": [
    "\\begin{equation}\n",
    "\\int_\\Omega \\sigma(\\varepsilon(u)):\\varepsilon(v)\\,\\mathrm{d}x\\,\\mathrm{d}y\n",
    "\\end{equation}"
   ]
  },
  {
   "cell_type": "code",
   "execution_count": 19,
   "metadata": {},
   "outputs": [],
   "source": [
    "bilinear_form = dolfin.inner(stress_strain(strain_displacement(u)),\n",
    "                             strain_displacement(v))*dolfin.dx"
   ]
  },
  {
   "cell_type": "markdown",
   "metadata": {},
   "source": [
    "The right-hand side of the variational formulation is the linear form, which is related to the loading. In the present case, the linear form reads"
   ]
  },
  {
   "cell_type": "markdown",
   "metadata": {},
   "source": [
    "\\begin{equation}\n",
    "\\int_{\\partial\\Omega\\cap\\{x=\\ell\\}}\\overline{T}\\cdot v\\,\\mathrm{d} y\n",
    "-\\int_{\\Omega}\\rho g\\,e_y\\cdot v\\,\\mathrm{d} x\\,\\mathrm{d} y.\n",
    "\\end{equation}"
   ]
  },
  {
   "cell_type": "markdown",
   "metadata": {},
   "source": [
    "Owing to linearity, we can study the effect of both loads (end tractions and body forces) separately. We will show here how to implement both loads. Then, in the remainder of this notebook, we will concentrate on the body forces."
   ]
  },
  {
   "cell_type": "markdown",
   "metadata": {},
   "source": [
    "We first define the prescribed traction $\\overline{T}$. In order to simplify the implementation of the first integral, we will use a trick. First, $\\overline{T}$ will be defined as a function of both $x$ and $y$, which is zero unless $x=\\ell$ (up to some tolerance)."
   ]
  },
  {
   "cell_type": "code",
   "execution_count": 20,
   "metadata": {},
   "outputs": [],
   "source": [
    "traction = dolfin.Expression(('x[0] < x_right ? 0.0 : -12.*M/d/d/d*x[1]', '0.0'),\n",
    "                             x_right=ell-atol, M=1.0, d=d, degree=degree)"
   ]
  },
  {
   "cell_type": "markdown",
   "metadata": {},
   "source": [
    "**Note:** the above ``Expression`` must use valid ``C++`` syntax.\n",
    "\n",
    "An alternative way to define an integral only on a part of the boundary or the bulk is to redefine the `measure` `dx` or `ds` to account for subdomain numbering. An example is given [here](https://gist.github.com/cmaurini/2030ee75a60a146c470713f23b70454f). See also Chapter 4 *Subdomains and boundary conditions* of the FEniCS tutorial."
   ]
  },
  {
   "cell_type": "markdown",
   "metadata": {},
   "source": [
    "**Questions:**\n",
    "\n",
    "- What is the meaning of the `M` property in the `traction` expression?\n",
    "- What is its physical dimension?\n",
    "- Explain the expression of tractions that was adopted."
   ]
  },
  {
   "cell_type": "markdown",
   "metadata": {},
   "source": [
    "Using this trick, we can integrate the right-hand side over the *whole* boundary"
   ]
  },
  {
   "cell_type": "code",
   "execution_count": 21,
   "metadata": {},
   "outputs": [],
   "source": [
    "linear_form = dolfin.dot(traction, v)*dolfin.ds"
   ]
  },
  {
   "cell_type": "markdown",
   "metadata": {},
   "source": [
    "Body forces are implemented as follows"
   ]
  },
  {
   "cell_type": "code",
   "execution_count": 22,
   "metadata": {},
   "outputs": [],
   "source": [
    "g = 1.\n",
    "body_forces = dolfin.Constant((0., g))\n",
    "M_max = 0.5*ell**2*d*g\n",
    "linear_form = dolfin.dot(body_forces, v)*dolfin.dx"
   ]
  },
  {
   "cell_type": "markdown",
   "metadata": {},
   "source": [
    "### Boundary conditions"
   ]
  },
  {
   "cell_type": "markdown",
   "metadata": {},
   "source": [
    "Finally, we need to define the list of Dirichlet boundary conditions (prescribed displacements). Passing the ``left`` callback function defined above means that the BC applies to the $x=0$ boundary."
   ]
  },
  {
   "cell_type": "code",
   "execution_count": 23,
   "metadata": {},
   "outputs": [],
   "source": [
    "u_prescribed = dolfin.Constant((0., 0.))\n",
    "boundary_condition_left = dolfin.DirichletBC(V, u_prescribed, left)\n",
    "\n",
    "boundary_conditions = [boundary_condition_left]"
   ]
  },
  {
   "cell_type": "markdown",
   "metadata": {},
   "source": [
    "## Solving the discretized problem"
   ]
  },
  {
   "cell_type": "markdown",
   "metadata": {},
   "source": [
    "We no longer need the variable ``u`` defined as a ``TrialFunction``; ``u`` is now defined as a ``Function`` belonging to the space ``V``."
   ]
  },
  {
   "cell_type": "code",
   "execution_count": 24,
   "metadata": {},
   "outputs": [],
   "source": [
    "u = dolfin.Function(V)"
   ]
  },
  {
   "cell_type": "markdown",
   "metadata": {},
   "source": [
    "Upon instantiation, ``u`` is initialized to zero. However, the following statement defines the variational problem we want to solve, and states that the solution is to be stored in ``u``."
   ]
  },
  {
   "cell_type": "code",
   "execution_count": 25,
   "metadata": {},
   "outputs": [],
   "source": [
    "problem = dolfin.LinearVariationalProblem(bilinear_form, linear_form, u, boundary_conditions)"
   ]
  },
  {
   "cell_type": "markdown",
   "metadata": {},
   "source": [
    "At this point, the problem is defined, but inversion of the linear system has not been done."
   ]
  },
  {
   "cell_type": "code",
   "execution_count": 26,
   "metadata": {},
   "outputs": [],
   "source": [
    "solver = dolfin.LinearVariationalSolver(problem)\n",
    "solver.solve()"
   ]
  },
  {
   "cell_type": "markdown",
   "metadata": {},
   "source": [
    "That's it! Now ``u`` holds the solution to the problem! It can be represented as follows."
   ]
  },
  {
   "cell_type": "code",
   "execution_count": 27,
   "metadata": {
    "scrolled": true
   },
   "outputs": [
    {
     "name": "stdout",
     "output_type": "stream",
     "text": [
      "v_max = 545.9999999999999\n"
     ]
    },
    {
     "data": {
      "text/plain": [
       "<matplotlib.collections.PolyCollection at 0x122d6e4a8>"
      ]
     },
     "execution_count": 27,
     "metadata": {},
     "output_type": "execute_result"
    },
    {
     "data": {
      "image/png": "[encoded data removed]",
      "text/plain": [
       "<Figure size 432x288 with 1 Axes>"
      ]
     },
     "metadata": {
      "needs_background": "light"
     },
     "output_type": "display_data"
    }
   ],
   "source": [
    "D = E*d**3/12./(1.-nu**2)\n",
    "v_max = M_max*ell**2/4./D\n",
    "print(f'v_max = {v_max}')\n",
    "dolfin.plot((0.4/v_max)*u, mode='displacement')"
   ]
  },
  {
   "cell_type": "markdown",
   "metadata": {},
   "source": [
    "**Question:** What is the meaning of the ``v_max``? Why did we scale ``u`` by ``0.4/v_max``?"
   ]
  },
  {
   "cell_type": "markdown",
   "metadata": {},
   "source": [
    "We can also plot the deflection of the mid-line."
   ]
  },
  {
   "cell_type": "code",
   "execution_count": 28,
   "metadata": {},
   "outputs": [
    {
     "data": {
      "text/plain": [
       "<matplotlib.legend.Legend at 0x1237ea4a8>"
      ]
     },
     "execution_count": 28,
     "metadata": {},
     "output_type": "execute_result"
    },
    {
     "data": {
      "image/png": "[encoded data removed]",
      "text/plain": [
       "<Figure size 432x288 with 1 Axes>"
      ]
     },
     "metadata": {
      "needs_background": "light"
     },
     "output_type": "display_data"
    }
   ],
   "source": [
    "x = np.linspace(0., ell, num=20)\n",
    "x_red = x/ell\n",
    "v_fem = [u(x_i, 0.0)[1] for x_i in x]\n",
    "v_fem = np.array(v_fem)\n",
    "\n",
    "v_beam = v_max*(2.*x_red**2-4./3.*x_red**3+x_red**4/3.)\n",
    "\n",
    "plt.plot(x, v_beam, label='Beam theory')\n",
    "plt.plot(x, v_fem, 'o', label='FEniCS')\n",
    "plt.legend()"
   ]
  },
  {
   "cell_type": "markdown",
   "metadata": {},
   "source": [
    "Here is how we can compute and plot the stresses within the beam."
   ]
  },
  {
   "cell_type": "code",
   "execution_count": 29,
   "metadata": {},
   "outputs": [],
   "source": [
    "sig = stress_strain(strain_displacement(u))\n",
    "\n",
    "V_sig = dolfin.FunctionSpace(mesh, dolfin.FiniteElement('DG', cell=mesh.ufl_cell(), degree=degree-1))\n",
    "sig_xx = dolfin.project(sig[0, 0], V_sig)"
   ]
  },
  {
   "cell_type": "code",
   "execution_count": 30,
   "metadata": {},
   "outputs": [
    {
     "data": {
      "text/plain": [
       "<matplotlib.collections.PolyCollection at 0x12357f6d8>"
      ]
     },
     "execution_count": 30,
     "metadata": {},
     "output_type": "execute_result"
    },
    {
     "data": {
      "image/png": "[encoded data removed]",
      "text/plain": [
       "<Figure size 432x288 with 1 Axes>"
      ]
     },
     "metadata": {
      "needs_background": "light"
     },
     "output_type": "display_data"
    }
   ],
   "source": [
    "dolfin.plot(sig_xx)"
   ]
  },
  {
   "cell_type": "markdown",
   "metadata": {},
   "source": [
    "We can plot $\\sigma_{xx}$ at various locations along the beam"
   ]
  },
  {
   "cell_type": "code",
   "execution_count": 31,
   "metadata": {},
   "outputs": [],
   "source": [
    "nx = 4\n",
    "dx = ell/nx\n",
    "x = np.linspace(0.5*dx, ell-0.5*dx, num=nx)\n",
    "x_red = x/ell"
   ]
  },
  {
   "cell_type": "code",
   "execution_count": 32,
   "metadata": {},
   "outputs": [],
   "source": [
    "ny = 10\n",
    "dy = d/ny\n",
    "y = np.linspace(-0.5*(d-dy), 0.5*(d-dy), num=ny)\n",
    "y_red = 2.*y/d"
   ]
  },
  {
   "cell_type": "code",
   "execution_count": 33,
   "metadata": {},
   "outputs": [
    {
     "data": {
      "text/plain": [
       "(-1.0, 1.0)"
      ]
     },
     "execution_count": 33,
     "metadata": {},
     "output_type": "execute_result"
    },
    {
     "data": {
      "image/png": "[encoded data removed]",
      "text/plain": [
       "<Figure size 432x288 with 1 Axes>"
      ]
     },
     "metadata": {
      "needs_background": "light"
     },
     "output_type": "display_data"
    }
   ],
   "source": [
    "for x_i, x_red_i in zip(x, x_red):\n",
    "    plt.plot([sig_xx(x_i, y_j) for y_j in y], y_red, 'o-', label=f'$x/\\\\ell = {x_red_i}$')\n",
    "plt.legend()\n",
    "plt.xlabel(r'$\\sigma_{xx}$')\n",
    "plt.ylabel(r'$2y/d$')\n",
    "plt.ylim(-1., 1.)"
   ]
  },
  {
   "cell_type": "markdown",
   "metadata": {},
   "source": [
    "Up to discretization errors, the stress profile is linear. The slope is not constant, as expected."
   ]
  },
  {
   "cell_type": "markdown",
   "metadata": {},
   "source": [
    "**Questions:**\n",
    "\n",
    "- Why didn't we compute the value of $\\sigma_{xx}$ at the upper and lower faces ($y=\\pm d/2$)?\n",
    "- Why didn't we plot the stress profiles at the left and right boundaries ($x=0$, $x=L$)?\n",
    "- What is the meaning of the slope of the above diagram?"
   ]
  },
  {
   "cell_type": "markdown",
   "metadata": {},
   "source": [
    "We can also compute the bending moments as a function of $x$"
   ]
  },
  {
   "cell_type": "markdown",
   "metadata": {},
   "source": [
    "\\begin{equation}\n",
    "M(x) = -\\int_{-d/2}^{d/2}y\\,\\sigma_{xx}(x, y)\\,\\mathrm{d}y.\n",
    "\\end{equation}"
   ]
  },
  {
   "cell_type": "code",
   "execution_count": 34,
   "metadata": {},
   "outputs": [],
   "source": [
    "nx = 20\n",
    "dx = ell/nx\n",
    "x = np.linspace(0.5*dx, ell-0.5*dx, num=nx)"
   ]
  },
  {
   "cell_type": "code",
   "execution_count": 35,
   "metadata": {},
   "outputs": [
    {
     "data": {
      "text/plain": [
       "<matplotlib.legend.Legend at 0x1267b1dd8>"
      ]
     },
     "execution_count": 35,
     "metadata": {},
     "output_type": "execute_result"
    },
    {
     "data": {
      "image/png": "[encoded data removed]",
      "text/plain": [
       "<Figure size 432x288 with 1 Axes>"
      ]
     },
     "metadata": {
      "needs_background": "light"
     },
     "output_type": "display_data"
    }
   ],
   "source": [
    "M = np.empty_like(x)\n",
    "for i, x_i in enumerate(x):\n",
    "    integrand = np.vectorize(lambda y: -y*sig_xx(x_i, y))\n",
    "    M[i], _ = scipy.integrate.quad(integrand, -.5*d, .5*d)\n",
    "    \n",
    "plt.plot(x, M_max*(1-x/ell)**2, label='Beam theory')\n",
    "plt.plot(x, M, 'o', label='FEniCS')\n",
    "plt.legend()"
   ]
  },
  {
   "cell_type": "markdown",
   "metadata": {},
   "source": [
    "**Question:** does the bending moment diagram agree with what you would have expected? Does the beam need to be slender for this bending moment diagram to be valid?"
   ]
  },
  {
   "cell_type": "markdown",
   "metadata": {},
   "source": [
    "## Putting it all together"
   ]
  },
  {
   "cell_type": "markdown",
   "metadata": {},
   "source": [
    "The above script uses a lot of global variables, which is asking for trouble. It is time to [refactor](https://en.wikipedia.org/wiki/Code_refactoring) our code into a class. This will also ease parametric studies. The class is actually defined in an external module, that we must first import."
   ]
  },
  {
   "cell_type": "code",
   "execution_count": 36,
   "metadata": {},
   "outputs": [],
   "source": [
    "from cantilever import Cantilever"
   ]
  },
  {
   "cell_type": "markdown",
   "metadata": {},
   "source": [
    "The whole simulation is encapsulated into the ``Cantilever`` class, which is listed below."
   ]
  },
  {
   "cell_type": "code",
   "execution_count": 37,
   "metadata": {},
   "outputs": [
    {
     "data": {
      "text/html": [
       "<!DOCTYPE html PUBLIC \"-//W3C//DTD HTML 4.01//EN\"\n",
       "   \"http://www.w3.org/TR/html4/strict.dtd\">\n",
       "<!--\n",
       "generated by Pygments <http://pygments.org>\n",
       "Copyright 2006-2019 by the Pygments team.\n",
       "Licensed under the BSD license, see LICENSE for details.\n",
       "-->\n",
       "<html>\n",
       "<head>\n",
       "  <title></title>\n",
       "  <meta http-equiv=\"content-type\" content=\"text/html; charset=None\">\n",
       "  <style type=\"text/css\">\n",
       "/*\n",
       "generated by Pygments <http://pygments.org>\n",
       "Copyright 2006-2019 by the Pygments team.\n",
       "Licensed under the BSD license, see LICENSE for details.\n",
       "*/\n",
       "td.linenos { background-color: #f0f0f0; padding-right: 10px; }\n",
       "span.lineno { background-color: #f0f0f0; padding: 0 5px 0 5px; }\n",
       "pre { line-height: 125%; }\n",
       "body .hll { background-color: #ffffcc }\n",
       "body  { background: #f8f8f8; }\n",
       "body .c { color: #408080; font-style: italic } /* Comment */\n",
       "body .err { border: 1px solid #FF0000 } /* Error */\n",
       "body .k { color: #008000; font-weight: bold } /* Keyword */\n",
       "body .o { color: #666666 } /* Operator */\n",
       "body .ch { color: #408080; font-style: italic } /* Comment.Hashbang */\n",
       "body .cm { color: #408080; font-style: italic } /* Comment.Multiline */\n",
       "body .cp { color: #BC7A00 } /* Comment.Preproc */\n",
       "body .cpf { color: #408080; font-style: italic } /* Comment.PreprocFile */\n",
       "body .c1 { color: #408080; font-style: italic } /* Comment.Single */\n",
       "body .cs { color: #408080; font-style: italic } /* Comment.Special */\n",
       "body .gd { color: #A00000 } /* Generic.Deleted */\n",
       "body .ge { font-style: italic } /* Generic.Emph */\n",
       "body .gr { color: #FF0000 } /* Generic.Error */\n",
       "body .gh { color: #000080; font-weight: bold } /* Generic.Heading */\n",
       "body .gi { color: #00A000 } /* Generic.Inserted */\n",
       "body .go { color: #888888 } /* Generic.Output */\n",
       "body .gp { color: #000080; font-weight: bold } /* Generic.Prompt */\n",
       "body .gs { font-weight: bold } /* Generic.Strong */\n",
       "body .gu { color: #800080; font-weight: bold } /* Generic.Subheading */\n",
       "body .gt { color: #0044DD } /* Generic.Traceback */\n",
       "body .kc { color: #008000; font-weight: bold } /* Keyword.Constant */\n",
       "body .kd { color: #008000; font-weight: bold } /* Keyword.Declaration */\n",
       "body .kn { color: #008000; font-weight: bold } /* Keyword.Namespace */\n",
       "body .kp { color: #008000 } /* Keyword.Pseudo */\n",
       "body .kr { color: #008000; font-weight: bold } /* Keyword.Reserved */\n",
       "body .kt { color: #B00040 } /* Keyword.Type */\n",
       "body .m { color: #666666 } /* Literal.Number */\n",
       "body .s { color: #BA2121 } /* Literal.String */\n",
       "body .na { color: #7D9029 } /* Name.Attribute */\n",
       "body .nb { color: #008000 } /* Name.Builtin */\n",
       "body .nc { color: #0000FF; font-weight: bold } /* Name.Class */\n",
       "body .no { color: #880000 } /* Name.Constant */\n",
       "body .nd { color: #AA22FF } /* Name.Decorator */\n",
       "body .ni { color: #999999; font-weight: bold } /* Name.Entity */\n",
       "body .ne { color: #D2413A; font-weight: bold } /* Name.Exception */\n",
       "body .nf { color: #0000FF } /* Name.Function */\n",
       "body .nl { color: #A0A000 } /* Name.Label */\n",
       "body .nn { color: #0000FF; font-weight: bold } /* Name.Namespace */\n",
       "body .nt { color: #008000; font-weight: bold } /* Name.Tag */\n",
       "body .nv { color: #19177C } /* Name.Variable */\n",
       "body .ow { color: #AA22FF; font-weight: bold } /* Operator.Word */\n",
       "body .w { color: #bbbbbb } /* Text.Whitespace */\n",
       "body .mb { color: #666666 } /* Literal.Number.Bin */\n",
       "body .mf { color: #666666 } /* Literal.Number.Float */\n",
       "body .mh { color: #666666 } /* Literal.Number.Hex */\n",
       "body .mi { color: #666666 } /* Literal.Number.Integer */\n",
       "body .mo { color: #666666 } /* Literal.Number.Oct */\n",
       "body .sa { color: #BA2121 } /* Literal.String.Affix */\n",
       "body .sb { color: #BA2121 } /* Literal.String.Backtick */\n",
       "body .sc { color: #BA2121 } /* Literal.String.Char */\n",
       "body .dl { color: #BA2121 } /* Literal.String.Delimiter */\n",
       "body .sd { color: #BA2121; font-style: italic } /* Literal.String.Doc */\n",
       "body .s2 { color: #BA2121 } /* Literal.String.Double */\n",
       "body .se { color: #BB6622; font-weight: bold } /* Literal.String.Escape */\n",
       "body .sh { color: #BA2121 } /* Literal.String.Heredoc */\n",
       "body .si { color: #BB6688; font-weight: bold } /* Literal.String.Interpol */\n",
       "body .sx { color: #008000 } /* Literal.String.Other */\n",
       "body .sr { color: #BB6688 } /* Literal.String.Regex */\n",
       "body .s1 { color: #BA2121 } /* Literal.String.Single */\n",
       "body .ss { color: #19177C } /* Literal.String.Symbol */\n",
       "body .bp { color: #008000 } /* Name.Builtin.Pseudo */\n",
       "body .fm { color: #0000FF } /* Name.Function.Magic */\n",
       "body .vc { color: #19177C } /* Name.Variable.Class */\n",
       "body .vg { color: #19177C } /* Name.Variable.Global */\n",
       "body .vi { color: #19177C } /* Name.Variable.Instance */\n",
       "body .vm { color: #19177C } /* Name.Variable.Magic */\n",
       "body .il { color: #666666 } /* Literal.Number.Integer.Long */\n",
       "\n",
       "  </style>\n",
       "</head>\n",
       "<body>\n",
       "<h2></h2>\n",
       "\n",
       "<div class=\"highlight\"><pre><span></span><span class=\"k\">class</span> <span class=\"nc\">Cantilever</span><span class=\"p\">:</span>\n",
       "    <span class=\"k\">def</span> <span class=\"fm\">__init__</span><span class=\"p\">(</span><span class=\"bp\">self</span><span class=\"p\">,</span> <span class=\"n\">d</span><span class=\"p\">,</span> <span class=\"n\">h</span><span class=\"p\">,</span> <span class=\"n\">ell</span><span class=\"o\">=</span><span class=\"mf\">1.</span><span class=\"p\">,</span> <span class=\"n\">degree</span><span class=\"o\">=</span><span class=\"mi\">1</span><span class=\"p\">,</span> <span class=\"n\">nu</span><span class=\"o\">=</span><span class=\"mf\">0.3</span><span class=\"p\">,</span> <span class=\"n\">E</span><span class=\"o\">=</span><span class=\"mf\">1.0</span><span class=\"p\">):</span>\n",
       "        <span class=\"bp\">self</span><span class=\"o\">.</span><span class=\"n\">d</span> <span class=\"o\">=</span> <span class=\"n\">d</span>\n",
       "        <span class=\"bp\">self</span><span class=\"o\">.</span><span class=\"n\">ell</span> <span class=\"o\">=</span> <span class=\"n\">ell</span>\n",
       "        <span class=\"bp\">self</span><span class=\"o\">.</span><span class=\"n\">degree</span> <span class=\"o\">=</span> <span class=\"n\">degree</span>\n",
       "        <span class=\"n\">mesh</span> <span class=\"o\">=</span> <span class=\"n\">fenics</span><span class=\"o\">.</span><span class=\"n\">RectangleMesh</span><span class=\"p\">(</span><span class=\"n\">fenics</span><span class=\"o\">.</span><span class=\"n\">Point</span><span class=\"p\">(</span><span class=\"mf\">0.</span><span class=\"p\">,</span> <span class=\"o\">-</span><span class=\"mf\">0.5</span><span class=\"o\">*</span><span class=\"n\">d</span><span class=\"p\">),</span>\n",
       "                                    <span class=\"n\">fenics</span><span class=\"o\">.</span><span class=\"n\">Point</span><span class=\"p\">(</span><span class=\"n\">ell</span><span class=\"p\">,</span> <span class=\"mf\">0.5</span><span class=\"o\">*</span><span class=\"n\">d</span><span class=\"p\">),</span>\n",
       "                                    <span class=\"nb\">int</span><span class=\"p\">(</span><span class=\"n\">ell</span><span class=\"o\">/</span><span class=\"n\">h</span><span class=\"p\">),</span> <span class=\"nb\">int</span><span class=\"p\">(</span><span class=\"n\">d</span><span class=\"o\">/</span><span class=\"n\">h</span><span class=\"p\">))</span>\n",
       "        <span class=\"bp\">self</span><span class=\"o\">.</span><span class=\"n\">left</span> <span class=\"o\">=</span> <span class=\"n\">dolfin</span><span class=\"o\">.</span><span class=\"n\">CompiledSubDomain</span><span class=\"p\">(</span><span class=\"s1\">&#39;on_boundary &amp;&amp; x[0] &lt;= atol&#39;</span><span class=\"p\">,</span>\n",
       "                                             <span class=\"n\">atol</span><span class=\"o\">=</span><span class=\"mf\">1e-5</span><span class=\"o\">*</span><span class=\"n\">h</span><span class=\"p\">)</span>\n",
       "        <span class=\"bp\">self</span><span class=\"o\">.</span><span class=\"n\">right</span> <span class=\"o\">=</span> <span class=\"n\">dolfin</span><span class=\"o\">.</span><span class=\"n\">CompiledSubDomain</span><span class=\"p\">(</span><span class=\"s1\">&#39;on_boundary &amp;&amp; x[0] &gt;= ell-atol&#39;</span><span class=\"p\">,</span>\n",
       "                                              <span class=\"n\">ell</span><span class=\"o\">=</span><span class=\"n\">ell</span><span class=\"p\">,</span>\n",
       "                                              <span class=\"n\">atol</span><span class=\"o\">=</span><span class=\"mf\">1e-5</span><span class=\"o\">*</span><span class=\"n\">h</span><span class=\"p\">)</span>\n",
       "        <span class=\"n\">element</span> <span class=\"o\">=</span> <span class=\"n\">dolfin</span><span class=\"o\">.</span><span class=\"n\">VectorElement</span><span class=\"p\">(</span><span class=\"s1\">&#39;P&#39;</span><span class=\"p\">,</span>\n",
       "                                       <span class=\"n\">cell</span><span class=\"o\">=</span><span class=\"n\">mesh</span><span class=\"o\">.</span><span class=\"n\">ufl_cell</span><span class=\"p\">(),</span>\n",
       "                                       <span class=\"n\">degree</span><span class=\"o\">=</span><span class=\"n\">degree</span><span class=\"p\">,</span>\n",
       "                                       <span class=\"n\">dim</span><span class=\"o\">=</span><span class=\"n\">DIM</span><span class=\"p\">)</span>\n",
       "        <span class=\"bp\">self</span><span class=\"o\">.</span><span class=\"n\">V</span> <span class=\"o\">=</span> <span class=\"n\">dolfin</span><span class=\"o\">.</span><span class=\"n\">FunctionSpace</span><span class=\"p\">(</span><span class=\"n\">mesh</span><span class=\"p\">,</span> <span class=\"n\">element</span><span class=\"p\">)</span>\n",
       "        <span class=\"bp\">self</span><span class=\"o\">.</span><span class=\"n\">lambda_</span> <span class=\"o\">=</span> <span class=\"n\">dolfin</span><span class=\"o\">.</span><span class=\"n\">Constant</span><span class=\"p\">(</span><span class=\"n\">E</span><span class=\"o\">*</span><span class=\"n\">nu</span><span class=\"o\">/</span><span class=\"p\">(</span><span class=\"mf\">1.</span><span class=\"o\">+</span><span class=\"n\">nu</span><span class=\"p\">)</span><span class=\"o\">/</span><span class=\"p\">(</span><span class=\"mf\">1.</span><span class=\"o\">-</span><span class=\"mf\">2.</span><span class=\"o\">*</span><span class=\"n\">nu</span><span class=\"p\">))</span>\n",
       "        <span class=\"bp\">self</span><span class=\"o\">.</span><span class=\"n\">mu</span> <span class=\"o\">=</span> <span class=\"n\">dolfin</span><span class=\"o\">.</span><span class=\"n\">Constant</span><span class=\"p\">(</span><span class=\"n\">E</span><span class=\"o\">/</span><span class=\"mf\">2.</span><span class=\"o\">/</span><span class=\"p\">(</span><span class=\"mf\">1.</span><span class=\"o\">+</span><span class=\"n\">nu</span><span class=\"p\">))</span>\n",
       "\n",
       "    <span class=\"k\">def</span> <span class=\"nf\">bilinear_form</span><span class=\"p\">(</span><span class=\"bp\">self</span><span class=\"p\">,</span> <span class=\"n\">u</span><span class=\"p\">,</span> <span class=\"n\">v</span><span class=\"p\">):</span>\n",
       "        <span class=\"k\">return</span> <span class=\"n\">dolfin</span><span class=\"o\">.</span><span class=\"n\">inner</span><span class=\"p\">(</span><span class=\"n\">stress_strain</span><span class=\"p\">(</span><span class=\"n\">strain_displacement</span><span class=\"p\">(</span><span class=\"n\">u</span><span class=\"p\">),</span> <span class=\"bp\">self</span><span class=\"o\">.</span><span class=\"n\">lambda_</span><span class=\"p\">,</span> <span class=\"bp\">self</span><span class=\"o\">.</span><span class=\"n\">mu</span><span class=\"p\">),</span>\n",
       "                            <span class=\"n\">strain_displacement</span><span class=\"p\">(</span><span class=\"n\">v</span><span class=\"p\">))</span><span class=\"o\">*</span><span class=\"n\">dolfin</span><span class=\"o\">.</span><span class=\"n\">dx</span>\n",
       "\n",
       "    <span class=\"k\">def</span> <span class=\"nf\">linear_form</span><span class=\"p\">(</span><span class=\"bp\">self</span><span class=\"p\">,</span> <span class=\"n\">v</span><span class=\"p\">):</span>\n",
       "        <span class=\"c1\"># expr = &#39;x[0] &lt; x_right ? 0.0 : -12.*M/d/d/d*x[1]&#39;</span>\n",
       "        <span class=\"c1\"># traction = dolfin.Expression((expr, &#39;0.0&#39;),</span>\n",
       "        <span class=\"c1\">#                              x_right=self.ell-self.left.get_property(&#39;atol&#39;),</span>\n",
       "        <span class=\"c1\">#                              M=M, d=self.d, degree=1)</span>\n",
       "        <span class=\"c1\"># return dolfin.dot(traction, v)*dolfin.ds</span>\n",
       "        <span class=\"n\">g</span> <span class=\"o\">=</span> <span class=\"n\">dolfin</span><span class=\"o\">.</span><span class=\"n\">Constant</span><span class=\"p\">((</span><span class=\"mf\">0.</span><span class=\"p\">,</span> <span class=\"mf\">1.</span><span class=\"p\">))</span>\n",
       "        <span class=\"k\">return</span> <span class=\"n\">dolfin</span><span class=\"o\">.</span><span class=\"n\">dot</span><span class=\"p\">(</span><span class=\"n\">g</span><span class=\"p\">,</span> <span class=\"n\">v</span><span class=\"p\">)</span><span class=\"o\">*</span><span class=\"n\">dolfin</span><span class=\"o\">.</span><span class=\"n\">dx</span>\n",
       "\n",
       "\n",
       "    <span class=\"k\">def</span> <span class=\"nf\">variational_problem</span><span class=\"p\">(</span><span class=\"bp\">self</span><span class=\"p\">):</span>\n",
       "        <span class=\"n\">u</span> <span class=\"o\">=</span> <span class=\"n\">dolfin</span><span class=\"o\">.</span><span class=\"n\">TrialFunction</span><span class=\"p\">(</span><span class=\"bp\">self</span><span class=\"o\">.</span><span class=\"n\">V</span><span class=\"p\">)</span>\n",
       "        <span class=\"n\">v</span> <span class=\"o\">=</span> <span class=\"n\">dolfin</span><span class=\"o\">.</span><span class=\"n\">TestFunction</span><span class=\"p\">(</span><span class=\"bp\">self</span><span class=\"o\">.</span><span class=\"n\">V</span><span class=\"p\">)</span>\n",
       "        <span class=\"n\">lhs</span> <span class=\"o\">=</span> <span class=\"bp\">self</span><span class=\"o\">.</span><span class=\"n\">bilinear_form</span><span class=\"p\">(</span><span class=\"n\">u</span><span class=\"p\">,</span> <span class=\"n\">v</span><span class=\"p\">)</span>\n",
       "        <span class=\"n\">rhs</span> <span class=\"o\">=</span> <span class=\"bp\">self</span><span class=\"o\">.</span><span class=\"n\">linear_form</span><span class=\"p\">(</span><span class=\"n\">v</span><span class=\"p\">)</span>\n",
       "        <span class=\"n\">u_prescribed</span> <span class=\"o\">=</span> <span class=\"n\">dolfin</span><span class=\"o\">.</span><span class=\"n\">Constant</span><span class=\"p\">((</span><span class=\"mf\">0.</span><span class=\"p\">,</span> <span class=\"mf\">0.</span><span class=\"p\">))</span>\n",
       "        <span class=\"n\">bcs</span> <span class=\"o\">=</span> <span class=\"p\">[</span><span class=\"n\">dolfin</span><span class=\"o\">.</span><span class=\"n\">DirichletBC</span><span class=\"p\">(</span><span class=\"bp\">self</span><span class=\"o\">.</span><span class=\"n\">V</span><span class=\"p\">,</span> <span class=\"n\">u_prescribed</span><span class=\"p\">,</span> <span class=\"bp\">self</span><span class=\"o\">.</span><span class=\"n\">left</span><span class=\"p\">)]</span>\n",
       "        <span class=\"n\">u</span> <span class=\"o\">=</span> <span class=\"n\">dolfin</span><span class=\"o\">.</span><span class=\"n\">Function</span><span class=\"p\">(</span><span class=\"bp\">self</span><span class=\"o\">.</span><span class=\"n\">V</span><span class=\"p\">)</span>\n",
       "        <span class=\"k\">return</span> <span class=\"n\">dolfin</span><span class=\"o\">.</span><span class=\"n\">LinearVariationalProblem</span><span class=\"p\">(</span><span class=\"n\">lhs</span><span class=\"p\">,</span> <span class=\"n\">rhs</span><span class=\"p\">,</span> <span class=\"n\">u</span><span class=\"p\">,</span> <span class=\"n\">bcs</span><span class=\"p\">)</span>\n",
       "\n",
       "    <span class=\"k\">def</span> <span class=\"nf\">solution</span><span class=\"p\">(</span><span class=\"bp\">self</span><span class=\"p\">):</span>\n",
       "        <span class=\"n\">problem</span> <span class=\"o\">=</span> <span class=\"bp\">self</span><span class=\"o\">.</span><span class=\"n\">variational_problem</span><span class=\"p\">()</span>\n",
       "        <span class=\"n\">solver</span> <span class=\"o\">=</span> <span class=\"n\">dolfin</span><span class=\"o\">.</span><span class=\"n\">LinearVariationalSolver</span><span class=\"p\">(</span><span class=\"n\">problem</span><span class=\"p\">)</span>\n",
       "        <span class=\"n\">solver</span><span class=\"o\">.</span><span class=\"n\">solve</span><span class=\"p\">()</span>\n",
       "        <span class=\"k\">return</span> <span class=\"n\">problem</span><span class=\"o\">.</span><span class=\"n\">u_ufl</span>\n",
       "</pre></div>\n",
       "</body>\n",
       "</html>\n"
      ],
      "text/plain": [
       "<IPython.core.display.HTML object>"
      ]
     },
     "execution_count": 37,
     "metadata": {},
     "output_type": "execute_result"
    }
   ],
   "source": [
    "IPython.core.display.HTML(pygments.highlight(inspect.getsource(Cantilever),\n",
    "                                             pygments.lexers.PythonLexer(),\n",
    "                                             pygments.formatters.HtmlFormatter(full=True)))"
   ]
  },
  {
   "cell_type": "code",
   "execution_count": 39,
   "metadata": {},
   "outputs": [
    {
     "data": {
      "text/plain": [
       "<matplotlib.collections.PolyCollection at 0x123827358>"
      ]
     },
     "execution_count": 39,
     "metadata": {},
     "output_type": "execute_result"
    },
    {
     "data": {
      "image/png": "[encoded data removed]",
      "text/plain": [
       "<Figure size 432x288 with 1 Axes>"
      ]
     },
     "metadata": {
      "needs_background": "light"
     },
     "output_type": "display_data"
    }
   ],
   "source": [
    "example = Cantilever(d, h)\n",
    "dolfin.plot(0.4/v_max*example.solution(), mode='displacement')"
   ]
  },
  {
   "cell_type": "markdown",
   "metadata": {},
   "source": [
    "We are now ready to carry out parametric studies. Here is an uncommented example."
   ]
  },
  {
   "cell_type": "code",
   "execution_count": null,
   "metadata": {},
   "outputs": [],
   "source": [
    "degree = 1\n",
    "h = d\n",
    "element_sizes = []\n",
    "maximum_deflections = []\n",
    "for _ in range(8):\n",
    "    example = Cantilever(d, h, ell=ell, degree=degree)\n",
    "    u = example.solution()\n",
    "    element_sizes.append(h)\n",
    "    maximum_deflection = u(ell, 0.)[1]\n",
    "    maximum_deflections.append(maximum_deflection)\n",
    "    plt.figure()\n",
    "    fenics.plot(example.V.mesh())\n",
    "    plt.title(\"h: {:4.2e}, u_max: {:4.2e}\".format(h,maximum_deflection))\n",
    "    h *= 0.5"
   ]
  },
  {
   "cell_type": "code",
   "execution_count": null,
   "metadata": {},
   "outputs": [],
   "source": [
    "element_sizes = np.array(element_sizes)\n",
    "maximum_deflections = np.array(maximum_deflections)"
   ]
  },
  {
   "cell_type": "code",
   "execution_count": null,
   "metadata": {},
   "outputs": [],
   "source": [
    "plt.loglog(element_sizes, maximum_deflections, 'o')\n",
    "plt.xlabel('element_size')\n",
    "plt.ylabel('deflection')"
   ]
  },
  {
   "cell_type": "code",
   "execution_count": null,
   "metadata": {},
   "outputs": [],
   "source": [
    "order = example.degree+1\n",
    "\n",
    "v2, v1 = maximum_deflections[-2:]\n",
    "h2, h1 = element_sizes[-2:]\n",
    "\n",
    "v_ref = (v1*h2**order-v2*h1**order)/(h2**order-h1**order)\n",
    "const = np.abs((v1-v_ref)/v_ref/h1**order)\n",
    "err = np.abs((maximum_deflections-v_ref)/v_ref)\n",
    "plt.loglog(element_sizes, const*element_sizes**order)\n",
    "plt.loglog(element_sizes, err, 'o')"
   ]
  }
 ],
 "metadata": {
  "kernelspec": {
   "display_name": "Python 3",
   "language": "python",
   "name": "python3"
  },
  "language_info": {
   "codemirror_mode": {
    "name": "ipython",
    "version": 3
   },
   "file_extension": ".py",
   "mimetype": "text/x-python",
   "name": "python",
   "nbconvert_exporter": "python",
   "pygments_lexer": "ipython3",
   "version": "3.7.3"
  }
 },
 "nbformat": 4,
 "nbformat_minor": 4
}
