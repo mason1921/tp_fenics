{
  "cells": [
    {
      "cell_type": "markdown",
      "source": [
        "# Introduction to the Finite Element Method"
      ],
      "metadata": {}
    },
    {
      "cell_type": "markdown",
      "source": [
        "In this notebook we give an introduction to the finite element method and their computer programming, taking advantage of the FEniCS library. \n",
        "With this notebook you can acquire the following competences:\n",
        "* The basics of the FEM\n",
        "* Ideas of abstractions of the data structures and methods needed to in finite element method\n",
        "* An introduction to FEniCS, that will be used in the rest of the course\n",
        "* Write an elemental solver for the 1d traction problem of a linear elastic bar"
      ],
      "metadata": {
        "slideshow": {
          "slide_type": "slide"
        }
      }
    },
    {
      "cell_type": "code",
      "source": [
        "%matplotlib inline\n",
        "import dolfin as df\n",
        "import numpy as np\n",
        "import matplotlib.pyplot as plt"
      ],
      "outputs": [],
      "execution_count": 1,
      "metadata": {}
    },
    {
      "cell_type": "markdown",
      "source": [
        "## Mesh"
      ],
      "metadata": {}
    },
    {
      "cell_type": "markdown",
      "source": [
        "Let us a create a 1d mesh, of length 1, with uniform element size"
      ],
      "metadata": {}
    },
    {
      "cell_type": "code",
      "source": [
        "mesh = df.UnitIntervalMesh(10)\n",
        "df.plot(mesh)"
      ],
      "outputs": [
        {
          "output_type": "execute_result",
          "execution_count": 2,
          "data": {
            "text/plain": [
              "[<matplotlib.lines.Line2D at 0x1226a3b38>]"
            ]
          },
          "metadata": {}
        },
        {
          "output_type": "display_data",
          "data": {
            "text/plain": [
              "<Figure size 432x288 with 1 Axes>"
            ],
            "image/png": "[encoded data removed]"
          },
          "metadata": {
            "needs_background": "light"
          }
        }
      ],
      "execution_count": 2,
      "metadata": {}
    },
    {
      "cell_type": "markdown",
      "source": [
        "The basic model for the mesh is a collection of two arrays, one with the coordinates of the nodes and one with the node number in each cell. This is what can easily get in FEniCS.\n",
        "In FEniCS a mesh is class with a set of attributes and methods. "
      ],
      "metadata": {}
    },
    {
      "cell_type": "code",
      "source": [
        "print(\"nodes = \", mesh.coordinates())\n",
        "print(\"elements = \", mesh.cells())"
      ],
      "outputs": [
        {
          "output_type": "stream",
          "name": "stdout",
          "text": [
            "nodes =  [[0. ]\n",
            " [0.1]\n",
            " [0.2]\n",
            " [0.3]\n",
            " [0.4]\n",
            " [0.5]\n",
            " [0.6]\n",
            " [0.7]\n",
            " [0.8]\n",
            " [0.9]\n",
            " [1. ]]\n",
            "elements =  [[ 0  1]\n",
            " [ 1  2]\n",
            " [ 2  3]\n",
            " [ 3  4]\n",
            " [ 4  5]\n",
            " [ 5  6]\n",
            " [ 6  7]\n",
            " [ 7  8]\n",
            " [ 8  9]\n",
            " [ 9 10]]\n"
          ]
        }
      ],
      "execution_count": 3,
      "metadata": {}
    },
    {
      "cell_type": "markdown",
      "source": [
        "## Finite Element Discrete Function Space"
      ],
      "metadata": {
        "slideshow": {
          "slide_type": "slide"
        }
      }
    },
    {
      "cell_type": "markdown",
      "source": [
        "The basic ideas of FE is to approximate the solutions of ODE and PDE by using a Ritz-Galerking approximation.\n",
        "Solutions are approximated by a linear combination of $n$ basis functions $\\varphi_i$\n",
        "$$ u(x) = \\sum_{i=1}^n \\varphi_i(x) U_i$$\n",
        "i.e. in the discrete function space\n",
        "$$\n",
        "V = \\mathrm{span}\\{\\varphi_1,\\ldots,\\varphi_n\\} \n",
        "$$\n",
        "The finite element method is a system method to define the basis function in a way which is indipendent of the shape of the domain. The basic idea is to have this function defined \"elementwise\". \n",
        "\n",
        "We can create in FEniCS a finite element function space with the following command. "
      ],
      "metadata": {}
    },
    {
      "cell_type": "code",
      "source": [
        "V = df.FunctionSpace(mesh,\"P\",1)"
      ],
      "outputs": [],
      "execution_count": 4,
      "metadata": {}
    },
    {
      "cell_type": "markdown",
      "source": [
        "We should specify the mesh,  the type of interpolation functions (`P` is for Lagrange polynomials), and the order (`1` stays for linear polynomials). \n",
        "The function space is an important object (a python class here), that collect the basis function and also the information on the mapping between globel degree of freedom and cell number (`dofmap`). This gives for examples the `dof` of the cell `2`. "
      ],
      "metadata": {}
    },
    {
      "cell_type": "code",
      "source": [
        "V"
      ],
      "outputs": [
        {
          "output_type": "execute_result",
          "execution_count": 5,
          "data": {
            "text/plain": [
              "FunctionSpace(Mesh(VectorElement(FiniteElement('Lagrange', interval, 1), dim=1), 0), FiniteElement('Lagrange', interval, 1))"
            ]
          },
          "metadata": {}
        }
      ],
      "execution_count": 5,
      "metadata": {}
    },
    {
      "cell_type": "code",
      "source": [
        "dofmap = V.dofmap()\n",
        "dofmap.cell_dofs(2)"
      ],
      "outputs": [
        {
          "output_type": "execute_result",
          "execution_count": 6,
          "data": {
            "text/plain": [
              "array([8, 7], dtype=int32)"
            ]
          },
          "metadata": {}
        }
      ],
      "execution_count": 6,
      "metadata": {}
    },
    {
      "cell_type": "markdown",
      "source": [
        "## Functions \n",
        "In a finite element element function space a function is caracterized by the a n-dimensional vector collecting the coefficients $U_i$. We can define a function as follows in FEniCS (and give it a name)"
      ],
      "metadata": {}
    },
    {
      "cell_type": "code",
      "source": [
        "u = df.Function(V, name = \"displacement\")"
      ],
      "outputs": [],
      "execution_count": 7,
      "metadata": {}
    },
    {
      "cell_type": "markdown",
      "source": [
        "We can access the vector of the $U_i$ as follows and convert it to a numpy array. Note that it is always initialized to 0."
      ],
      "metadata": {}
    },
    {
      "cell_type": "code",
      "source": [
        "u_vec = u.vector()\n",
        "print(u_vec.get_local())"
      ],
      "outputs": [
        {
          "output_type": "stream",
          "name": "stdout",
          "text": [
            "[0. 0. 0. 0. 0. 0. 0. 0. 0. 0. 0.]\n"
          ]
        }
      ],
      "execution_count": 8,
      "metadata": {}
    },
    {
      "cell_type": "markdown",
      "source": [
        "For `P1`spaces, we can easily set the value of the `U_i`'s to approximate an analytical expression `f` by interpolation, i.e. setting $U_i=f(x_i)$. "
      ],
      "metadata": {}
    },
    {
      "cell_type": "code",
      "source": [
        "4**2"
      ],
      "outputs": [
        {
          "output_type": "execute_result",
          "execution_count": 9,
          "data": {
            "text/plain": [
              "16"
            ]
          },
          "metadata": {}
        }
      ],
      "execution_count": 9,
      "metadata": {}
    },
    {
      "cell_type": "code",
      "source": [
        "f = df.Expression('sin(5*pow(x[0],2))', degree = 2)\n",
        "u.interpolate(f)\n",
        "u_vec.get_local()"
      ],
      "outputs": [
        {
          "output_type": "execute_result",
          "execution_count": 10,
          "data": {
            "text/plain": [
              "array([-0.95892427, -0.78852525, -0.05837414,  0.6377647 ,  0.97384763,\n",
              "        0.94898462,  0.71735609,  0.43496553,  0.19866933,  0.04997917,\n",
              "        0.        ])"
            ]
          },
          "metadata": {}
        }
      ],
      "execution_count": 10,
      "metadata": {}
    },
    {
      "cell_type": "markdown",
      "source": [
        "We can plot a function by using a built-in plot function in FEniCS:"
      ],
      "metadata": {}
    },
    {
      "cell_type": "code",
      "source": [
        "df.plot(u)"
      ],
      "outputs": [
        {
          "output_type": "execute_result",
          "execution_count": 11,
          "data": {
            "text/plain": [
              "[<matplotlib.lines.Line2D at 0x1233613c8>]"
            ]
          },
          "metadata": {}
        },
        {
          "output_type": "display_data",
          "data": {
            "text/plain": [
              "<Figure size 432x288 with 1 Axes>"
            ],
            "image/png": "[encoded data removed]"
          },
          "metadata": {
            "needs_background": "light"
          }
        }
      ],
      "execution_count": 11,
      "metadata": {}
    },
    {
      "cell_type": "markdown",
      "source": [
        "or by using matplotlib:"
      ],
      "metadata": {}
    },
    {
      "cell_type": "code",
      "source": [
        "mesh.coordinates()[:,0]"
      ],
      "outputs": [
        {
          "output_type": "execute_result",
          "execution_count": 12,
          "data": {
            "text/plain": [
              "array([0. , 0.1, 0.2, 0.3, 0.4, 0.5, 0.6, 0.7, 0.8, 0.9, 1. ])"
            ]
          },
          "metadata": {}
        }
      ],
      "execution_count": 12,
      "metadata": {}
    },
    {
      "cell_type": "code",
      "source": [
        "V.tabulate_dof_coordinates()"
      ],
      "outputs": [
        {
          "output_type": "execute_result",
          "execution_count": 13,
          "data": {
            "text/plain": [
              "array([[1. ],\n",
              "       [0.9],\n",
              "       [0.8],\n",
              "       [0.7],\n",
              "       [0.6],\n",
              "       [0.5],\n",
              "       [0.4],\n",
              "       [0.3],\n",
              "       [0.2],\n",
              "       [0.1],\n",
              "       [0. ]])"
            ]
          },
          "metadata": {}
        }
      ],
      "execution_count": 13,
      "metadata": {}
    },
    {
      "cell_type": "code",
      "source": [
        "import matplotlib.pyplot as plt \n",
        "plt.plot(mesh.coordinates()[:,0], u.compute_vertex_values(),\"r.\")\n",
        "plt.xlabel(\"x\")\n",
        "plt.ylabel(\"u\")"
      ],
      "outputs": [
        {
          "output_type": "execute_result",
          "execution_count": 14,
          "data": {
            "text/plain": [
              "Text(0, 0.5, 'u')"
            ]
          },
          "metadata": {}
        },
        {
          "output_type": "display_data",
          "data": {
            "text/plain": [
              "<Figure size 432x288 with 1 Axes>"
            ],
            "image/png": "[encoded data removed]"
          },
          "metadata": {
            "needs_background": "light"
          }
        }
      ],
      "execution_count": 14,
      "metadata": {}
    },
    {
      "cell_type": "markdown",
      "source": [
        "You can write the function to a file either in speficif format, that can be read by `paraview`"
      ],
      "metadata": {}
    },
    {
      "cell_type": "code",
      "source": [
        "with df.XDMFFile(mesh.mpi_comm(), \"output/bar.xdmf\") as file: \n",
        "    file.write(u)"
      ],
      "outputs": [],
      "execution_count": 15,
      "metadata": {}
    },
    {
      "cell_type": "markdown",
      "source": [
        "Or as a text (only for small things ...)"
      ],
      "metadata": {}
    },
    {
      "cell_type": "code",
      "source": [
        "np.savetxt('output/bar.txt',  u_vec.get_local(), fmt='%.2e')"
      ],
      "outputs": [],
      "execution_count": 16,
      "metadata": {}
    },
    {
      "cell_type": "markdown",
      "source": [
        "## Variational formulation \n",
        "Let us consider the problem of the traction of a bar of length $L$, axial stiffness $ES(x)$, blocked in $x=0$ and subjected to an end force $P$ and a distributed load $f(x)$. The variational formulation of the problem is:\n",
        "\n",
        "Find a *trial function* $u\\in V$ such that for each *test function* in $v\\in V$: \n",
        "$$\n",
        "a(u,v) = l(v)\n",
        "$$\n",
        "where for our bar\n",
        "$$a(u,v)=\\int_0^L ES(x)\\, u'(x)\\,v'(x) \\mathrm{d}x, \\quad \\ell(v)=P\\,u(L)+\\int_0^L f(x)\\,v(x) \\mathrm{d}x$$\n",
        "From that one should \n",
        "\n",
        "1. Assemble the stiffness matrix $A$ and load vector $b$ defined by\n",
        "    $$\n",
        "    A_{ij}=a(\\varphi_i,\\varphi_j),\\qquad b_j=\\ell(\\varphi_j)\n",
        "    $$\n",
        "2. Impose the Dirichlet boundary condition at the discrete level\n",
        "3. Solve the linear system \n",
        "    $$A U=b$$"
      ],
      "metadata": {}
    },
    {
      "cell_type": "markdown",
      "source": [
        "## Assembling"
      ],
      "metadata": {}
    },
    {
      "cell_type": "markdown",
      "source": [
        "The first step is often the most tedius and technical one when writing a FE code, even if conceptually is very simple.\n",
        "Indeed, it can be completely automasize. Many modern FE libraries implement automatic code generator that write the assembling routing given the bilinear form $a$ and the linear form $\\ell$. \n",
        "\n",
        "A component of FEniCS, `UFL` (Unified form language) provides a syntax to straightforwardly and efficiently write variational form link on paper, taking also advantage of symbolic calculus. Below how to write this variational problem in `UFL`"
      ],
      "metadata": {}
    },
    {
      "cell_type": "code",
      "source": [
        "ES = df.Expression('k', k=1., degree = 2)\n",
        "f = df.Expression('sin(x[0])', degree = 2)\n",
        "P = df.Constant(\"1.\")\n",
        "u_ = df.TrialFunction(V)\n",
        "v = df.TestFunction(V)\n",
        "dx = df.dx # Volume measure\n",
        "ds = df.ds # surface measure\n",
        "a = (u_.dx(0)*v.dx(0))*dx\n",
        "l = f*v*dx+P*v*ds"
      ],
      "outputs": [],
      "execution_count": 17,
      "metadata": {}
    },
    {
      "cell_type": "markdown",
      "source": [
        "Hence one can take advantage of automatic code generation to assemble the system with efficient `C++` code. When evaluating the lines below for the first time, FEniCS do the following \n",
        "1. automatically generate an highly optimized `C++` codes to assemble A and b;\n",
        "2. compile them on the flight (JIT, Just In Time compilation);\n",
        "3. Call in python the resulting executable and assemble the matrix. \n",
        "\n",
        "Steps 1-2 can require some time (of the order of seconds), but are executed only once. When repeating the assembling for the same form, the executable are reused. The time required to generate and compile the code are indipendent of the number of `dof`. It can appear long for very small system, like the present one (say 1 second), but are completely negligible when solving large problem where most of the timing is spent in solving the linear system. "
      ],
      "metadata": {}
    },
    {
      "cell_type": "code",
      "source": [
        "A = df.assemble(a)\n",
        "b = df.assemble(l)"
      ],
      "outputs": [],
      "execution_count": 30,
      "metadata": {}
    },
    {
      "cell_type": "markdown",
      "source": [
        "With this no more need to write tedius assembling routines! YOu can access the entries of the matrices as below (viewing them as `numpy` arrays)"
      ],
      "metadata": {}
    },
    {
      "cell_type": "code",
      "source": [
        "A.array()"
      ],
      "outputs": [
        {
          "output_type": "execute_result",
          "execution_count": 31,
          "data": {
            "text/plain": [
              "array([[ 10., -10.,   0.,   0.,   0.,   0.,   0.,   0.,   0.,   0.,   0.],\n",
              "       [-10.,  20., -10.,   0.,   0.,   0.,   0.,   0.,   0.,   0.,   0.],\n",
              "       [  0., -10.,  20., -10.,   0.,   0.,   0.,   0.,   0.,   0.,   0.],\n",
              "       [  0.,   0., -10.,  20., -10.,   0.,   0.,   0.,   0.,   0.,   0.],\n",
              "       [  0.,   0.,   0., -10.,  20., -10.,   0.,   0.,   0.,   0.,   0.],\n",
              "       [  0.,   0.,   0.,   0., -10.,  20., -10.,   0.,   0.,   0.,   0.],\n",
              "       [  0.,   0.,   0.,   0.,   0., -10.,  20., -10.,   0.,   0.,   0.],\n",
              "       [  0.,   0.,   0.,   0.,   0.,   0., -10.,  20., -10.,   0.,   0.],\n",
              "       [  0.,   0.,   0.,   0.,   0.,   0.,   0., -10.,  20., -10.,   0.],\n",
              "       [  0.,   0.,   0.,   0.,   0.,   0.,   0.,   0., -10.,  20., -10.],\n",
              "       [  0.,   0.,   0.,   0.,   0.,   0.,   0.,   0.,   0., -10.,  10.]])"
            ]
          },
          "metadata": {}
        }
      ],
      "execution_count": 31,
      "metadata": {}
    },
    {
      "cell_type": "code",
      "source": [
        "b.get_local()"
      ],
      "outputs": [
        {
          "output_type": "execute_result",
          "execution_count": 32,
          "data": {
            "text/plain": [
              "array([1.04113837, 0.07826743, 0.07167584, 0.0643681 , 0.0564172 ,\n",
              "       0.04790261, 0.03890939, 0.0295274 , 0.01985038, 0.00997502,\n",
              "       1.00166597])"
            ]
          },
          "metadata": {}
        }
      ],
      "execution_count": 32,
      "metadata": {}
    },
    {
      "cell_type": "markdown",
      "source": [
        "## Dirichlet Boundary Conditions\n",
        "\n",
        "The formulation above does not yet accout for the dirichlet boundary condition $u=0$ in $x=0$.\n",
        "The Dirichlet BCs are usually imposed in the finite element formulation at the discrete level, by suitably hacking the linear system to solve (deleting or modifying raws and/or columns of $A$ and $b$). \n",
        "\n",
        "In fenics this is done with the `DirichletBC`. This introduces an object instrumental to impose the value `0.` on the space `V` in the *subdomain* `x[0]==0`."
      ],
      "metadata": {}
    },
    {
      "cell_type": "code",
      "source": [
        "bc = df.DirichletBC(V,2.,\"x[0]==0\")"
      ],
      "outputs": [],
      "execution_count": 37,
      "metadata": {}
    },
    {
      "cell_type": "markdown",
      "source": [
        "### Method 1 (`bc.apply`, A not sym)"
      ],
      "metadata": {}
    },
    {
      "cell_type": "markdown",
      "source": [
        "A first method to abbly the boundary condition is the following"
      ],
      "metadata": {}
    },
    {
      "cell_type": "code",
      "source": [
        "bc.apply(A)\n",
        "bc.apply(b)"
      ],
      "outputs": [],
      "execution_count": 38,
      "metadata": {}
    },
    {
      "cell_type": "markdown",
      "source": [
        "The stiffness matrix and load vector are modified to satisfy the desired conditions when solving the linear system (try to understad what is done as an exercice)"
      ],
      "metadata": {}
    },
    {
      "cell_type": "code",
      "source": [
        "A.array()"
      ],
      "outputs": [
        {
          "output_type": "execute_result",
          "execution_count": 39,
          "data": {
            "text/plain": [
              "array([[ 10., -10.,   0.,   0.,   0.,   0.,   0.,   0.,   0.,   0.,   0.],\n",
              "       [-10.,  20., -10.,   0.,   0.,   0.,   0.,   0.,   0.,   0.,   0.],\n",
              "       [  0., -10.,  20., -10.,   0.,   0.,   0.,   0.,   0.,   0.,   0.],\n",
              "       [  0.,   0., -10.,  20., -10.,   0.,   0.,   0.,   0.,   0.,   0.],\n",
              "       [  0.,   0.,   0., -10.,  20., -10.,   0.,   0.,   0.,   0.,   0.],\n",
              "       [  0.,   0.,   0.,   0., -10.,  20., -10.,   0.,   0.,   0.,   0.],\n",
              "       [  0.,   0.,   0.,   0.,   0., -10.,  20., -10.,   0.,   0.,   0.],\n",
              "       [  0.,   0.,   0.,   0.,   0.,   0., -10.,  20., -10.,   0.,   0.],\n",
              "       [  0.,   0.,   0.,   0.,   0.,   0.,   0., -10.,  20., -10.,   0.],\n",
              "       [  0.,   0.,   0.,   0.,   0.,   0.,   0.,   0., -10.,  20., -10.],\n",
              "       [  0.,   0.,   0.,   0.,   0.,   0.,   0.,   0.,   0.,   0.,   1.]])"
            ]
          },
          "metadata": {}
        }
      ],
      "execution_count": 39,
      "metadata": {}
    },
    {
      "cell_type": "code",
      "source": [
        "b.get_local()"
      ],
      "outputs": [
        {
          "output_type": "execute_result",
          "execution_count": 40,
          "data": {
            "text/plain": [
              "array([1.04113837, 0.07826743, 0.07167584, 0.0643681 , 0.0564172 ,\n",
              "       0.04790261, 0.03890939, 0.0295274 , 0.01985038, 0.00997502,\n",
              "       1.53      ])"
            ]
          },
          "metadata": {}
        }
      ],
      "execution_count": 40,
      "metadata": {}
    },
    {
      "cell_type": "markdown",
      "source": [
        "### Method 2 (`assemble_system`, A sym)"
      ],
      "metadata": {}
    },
    {
      "cell_type": "markdown",
      "source": [
        "This is an alternative that preserves the symmetry of the A matrix. \n",
        "Guess what is the method!"
      ],
      "metadata": {}
    },
    {
      "cell_type": "code",
      "source": [
        "A,b = df.assemble_system(a,l,bc)"
      ],
      "outputs": [],
      "execution_count": 41,
      "metadata": {}
    },
    {
      "cell_type": "code",
      "source": [
        "A.array()"
      ],
      "outputs": [
        {
          "output_type": "execute_result",
          "execution_count": 42,
          "data": {
            "text/plain": [
              "array([[ 10., -10.,   0.,   0.,   0.,   0.,   0.,   0.,   0.,   0.,   0.],\n",
              "       [-10.,  20., -10.,   0.,   0.,   0.,   0.,   0.,   0.,   0.,   0.],\n",
              "       [  0., -10.,  20., -10.,   0.,   0.,   0.,   0.,   0.,   0.,   0.],\n",
              "       [  0.,   0., -10.,  20., -10.,   0.,   0.,   0.,   0.,   0.,   0.],\n",
              "       [  0.,   0.,   0., -10.,  20., -10.,   0.,   0.,   0.,   0.,   0.],\n",
              "       [  0.,   0.,   0.,   0., -10.,  20., -10.,   0.,   0.,   0.,   0.],\n",
              "       [  0.,   0.,   0.,   0.,   0., -10.,  20., -10.,   0.,   0.,   0.],\n",
              "       [  0.,   0.,   0.,   0.,   0.,   0., -10.,  20., -10.,   0.,   0.],\n",
              "       [  0.,   0.,   0.,   0.,   0.,   0.,   0., -10.,  20., -10.,   0.],\n",
              "       [  0.,   0.,   0.,   0.,   0.,   0.,   0.,   0., -10.,  20.,   0.],\n",
              "       [  0.,   0.,   0.,   0.,   0.,   0.,   0.,   0.,   0.,   0.,   1.]])"
            ]
          },
          "metadata": {}
        }
      ],
      "execution_count": 42,
      "metadata": {}
    },
    {
      "cell_type": "code",
      "source": [
        "b.get_local()"
      ],
      "outputs": [
        {
          "output_type": "execute_result",
          "execution_count": 43,
          "data": {
            "text/plain": [
              "array([ 1.04113837,  0.07826743,  0.07167584,  0.0643681 ,  0.0564172 ,\n",
              "        0.04790261,  0.03890939,  0.0295274 ,  0.01985038, 15.30997502,\n",
              "        1.53      ])"
            ]
          },
          "metadata": {}
        }
      ],
      "execution_count": 43,
      "metadata": {}
    },
    {
      "cell_type": "markdown",
      "source": [
        "## Solve the linear system"
      ],
      "metadata": {}
    },
    {
      "cell_type": "markdown",
      "source": [
        "The solution of the linear system is often the most time-consuming part of the running time of a finite element solver. In finite element one never computes explicity the inverse of the matrix `A` but uses appropiate *direct* or *iterative* solvers. This because computing the inverse of `A` is feasible only for very small matrices. Even if `A` is sparse (tridiagonal here), its inverse is generally full."
      ],
      "metadata": {}
    },
    {
      "cell_type": "markdown",
      "source": [
        "The matrix A is saved in RAM (and not to disk) in a sparse format.\n",
        "Several format are used. All the linear algebra part is very often managed though specialised library. This becomes very important when one want an efficient parallel implementation. The reference library for linear algebra in HPC is nowadays [PETSc](http://www.mcs.anl.gov/petsc/). "
      ],
      "metadata": {}
    },
    {
      "cell_type": "markdown",
      "source": [
        "We will solve below the linear system by the default *direct* linear solve, and put the solution vector in the coefficient of the function $u$. More details on the solvers will be given in dedicated notebook."
      ],
      "metadata": {}
    },
    {
      "cell_type": "code",
      "source": [
        "df.linear_solver_methods()"
      ],
      "outputs": [
        {
          "output_type": "execute_result",
          "execution_count": 45,
          "data": {
            "text/plain": [
              "{'bicgstab': 'Biconjugate gradient stabilized method',\n",
              " 'cg': 'Conjugate gradient method',\n",
              " 'default': 'default linear solver',\n",
              " 'gmres': 'Generalized minimal residual method',\n",
              " 'minres': 'Minimal residual method',\n",
              " 'mumps': 'MUMPS (MUltifrontal Massively Parallel Sparse direct Solver)',\n",
              " 'petsc': 'PETSc built in LU solver',\n",
              " 'richardson': 'Richardson method',\n",
              " 'superlu': 'SuperLU',\n",
              " 'superlu_dist': 'Parallel SuperLU',\n",
              " 'tfqmr': 'Transpose-free quasi-minimal residual method',\n",
              " 'umfpack': 'UMFPACK (Unsymmetric MultiFrontal sparse LU factorization)'}"
            ]
          },
          "metadata": {}
        }
      ],
      "execution_count": 45,
      "metadata": {}
    },
    {
      "cell_type": "code",
      "source": [
        "df.list_krylov_solver_preconditioners()"
      ],
      "outputs": [],
      "execution_count": 52,
      "metadata": {}
    },
    {
      "cell_type": "code",
      "source": [
        "df.solve(A,u.vector(),b,\"cg\", \"ilu\")\n"
      ],
      "outputs": [
        {
          "output_type": "execute_result",
          "execution_count": 53,
          "data": {
            "text/plain": [
              "1"
            ]
          },
          "metadata": {}
        }
      ],
      "execution_count": 53,
      "metadata": {}
    },
    {
      "cell_type": "markdown",
      "source": [
        "## Post-processing"
      ],
      "metadata": {}
    },
    {
      "cell_type": "markdown",
      "source": [
        "We can easily plot the result for the displacement"
      ],
      "metadata": {}
    },
    {
      "cell_type": "code",
      "source": [
        "df.plot(u, marker= \"*\")\n",
        "plt.ylim([0,6])"
      ],
      "outputs": [
        {
          "output_type": "execute_result",
          "execution_count": 55,
          "data": {
            "text/plain": [
              "(0, 6)"
            ]
          },
          "metadata": {}
        },
        {
          "output_type": "display_data",
          "data": {
            "image/png": "[encoded data removed]",
            "text/plain": [
              "<Figure size 432x288 with 1 Axes>"
            ]
          },
          "metadata": {}
        }
      ],
      "execution_count": 55,
      "metadata": {}
    },
    {
      "cell_type": "markdown",
      "source": [
        "## Refactoring as a function "
      ],
      "metadata": {}
    },
    {
      "cell_type": "markdown",
      "source": [
        "For parametric analysis, it may be useful to refactor the code as a function returning the finite element solution"
      ],
      "metadata": {}
    },
    {
      "cell_type": "code",
      "source": [
        "%matplotlib inline\n",
        "import fenics as fe\n",
        "import numpy as np\n",
        "import matplotlib.pyplot as plt\n",
        "\n",
        "def bar_solver(Pv,n,p):\n",
        "    mesh = fe.UnitIntervalMesh(n)\n",
        "    V = fe.FunctionSpace(mesh,\"P\",p)\n",
        "    u_ = fe.TrialFunction(V)\n",
        "    v = fe.TestFunction(V)\n",
        "    u = fe.Function(V)\n",
        "    ES = fe.Expression('k', k=1., degree=2)\n",
        "    f = fe.Expression('sin(x[0])', degree=2)\n",
        "    P = fe.Expression(\"P\",P=Pv,degree=0)\n",
        "    a = (u_.dx(0)*v.dx(0))*fe.dx\n",
        "    l = f*v*fe.dx+P*v*fe.ds\n",
        "    bc = fe.DirichletBC(V,0.,\"x[0]==0\")\n",
        "    A,b = fe.assemble_system(a,l,bc)\n",
        "    fe.solve(A,u.vector(),b)\n",
        "    return u\n",
        "\n",
        "with df.XDMFFile(mesh.mpi_comm(), \"output/bar.xdmf\") as file: \n",
        "    file.write(u)"
      ],
      "outputs": [],
      "execution_count": 56,
      "metadata": {}
    },
    {
      "cell_type": "code",
      "source": [
        "u = bar_solver(P,10,1)\n",
        "fe.plot(u,marker=\"*\",label=P)"
      ],
      "outputs": [
        {
          "output_type": "execute_result",
          "execution_count": 57,
          "data": {
            "text/plain": [
              "[<matplotlib.lines.Line2D at 0x11b34b358>]"
            ]
          },
          "metadata": {}
        },
        {
          "output_type": "display_data",
          "data": {
            "image/png": "[encoded data removed]",
            "text/plain": [
              "<Figure size 432x288 with 1 Axes>"
            ]
          },
          "metadata": {}
        }
      ],
      "execution_count": 57,
      "metadata": {}
    },
    {
      "cell_type": "code",
      "source": [
        "for P in np.linspace(0,1,9):\n",
        "    u = bar_solver(P,10,1)\n",
        "    fe.plot(u,marker=\"*\",label=P)\n",
        "    plt.ylim([-2,2])\n",
        "plt.xlabel(\"x\")\n",
        "plt.ylabel(\"u\")\n",
        "plt.legend()"
      ],
      "outputs": [
        {
          "output_type": "execute_result",
          "execution_count": 58,
          "data": {
            "text/plain": [
              "<matplotlib.legend.Legend at 0x11bde4e48>"
            ]
          },
          "metadata": {}
        },
        {
          "output_type": "display_data",
          "data": {
            "image/png": "[encoded data removed]",
            "text/plain": [
              "<Figure size 432x288 with 1 Axes>"
            ]
          },
          "metadata": {}
        }
      ],
      "execution_count": 58,
      "metadata": {}
    },
    {
      "cell_type": "code",
      "source": [
        "for n in [1,2,5,10]:\n",
        "    u = bar_solver(0,n,1)\n",
        "    fe.plot(u,marker=\"*\",label=n)\n",
        "    plt.ylim([0,.5])\n",
        "plt.xlabel(\"x\")\n",
        "plt.ylabel(\"u\")\n",
        "plt.legend()"
      ],
      "outputs": [
        {
          "output_type": "execute_result",
          "execution_count": 59,
          "data": {
            "text/plain": [
              "<matplotlib.legend.Legend at 0x11bc4aa90>"
            ]
          },
          "metadata": {}
        },
        {
          "output_type": "display_data",
          "data": {
            "image/png": "[encoded data removed]",
            "text/plain": [
              "<Figure size 432x288 with 1 Axes>"
            ]
          },
          "metadata": {}
        }
      ],
      "execution_count": 59,
      "metadata": {}
    },
    {
      "cell_type": "code",
      "source": [],
      "outputs": [],
      "execution_count": null,
      "metadata": {
        "slideshow": {
          "slide_type": "slide"
        }
      }
    }
  ],
  "metadata": {
    "kernelspec": {
      "name": "python3",
      "language": "python",
      "display_name": "Python 3"
    },
    "language_info": {
      "name": "python",
      "version": "3.7.3",
      "mimetype": "text/x-python",
      "codemirror_mode": {
        "name": "ipython",
        "version": 3
      },
      "pygments_lexer": "ipython3",
      "nbconvert_exporter": "python",
      "file_extension": ".py"
    },
    "kernel_info": {
      "name": "python3"
    },
    "nteract": {
      "version": "0.15.0"
    }
  },
  "nbformat": 4,
  "nbformat_minor": 2
}