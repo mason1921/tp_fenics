{
 "cells": [
  {
   "cell_type": "markdown",
   "metadata": {},
   "source": [
    "# Convergence analysis of a FE solution"
   ]
  },
  {
   "cell_type": "markdown",
   "metadata": {},
   "source": [
    "## Main theoretical results on the convergence of the finite element solution\n",
    "Consider the variational problem: Find a *trial function* $u\\in V$, $u=\\bar u$ on $\\partial_u\\Omega$, such that for each *test function* in $v\\in V$, $v=0$ on $\\partial_u\\Omega$:  \n",
    "\n",
    "$$\n",
    "a(u,v) = \\ell(v)\n",
    "$$\n",
    "\n",
    "where $a$ is a symmetric positive definite form and $\\ell$ a linear form. \n",
    "\n",
    "We use the following notation (we consider here the 1d case for the sake of simplicity):\n",
    "- Potential energy of the system \n",
    "$$\\mathcal{E}(u)=\\dfrac{1}{2}a(u,u)-\\ell(u)$$\n",
    "\n",
    "- $u_{FE}$: Finite element solution\n",
    "\n",
    "\n",
    "- $u_{EX}$: Exact solution \n",
    "\n",
    "\n",
    "- $e = u_{FE}-u_{EX}$: Error\n",
    "\n",
    "\n",
    "- $\\Vert u\\Vert_{2}:=\\sqrt{\\int_\\Omega u\\cdot u\\,\\mathrm{d}x}$, $L_2$ norm of a function\n",
    "\n",
    "\n",
    "- $\\Vert u\\Vert_{H_1}:=\\sqrt{\\int_\\Omega  u'\\cdot  u'\\,\\mathrm{d}x} +\\sqrt{\\int_\\Omega u\\cdot u\\,\\mathrm{d}x}$ , $H_1$ norm of a function\n",
    "\n",
    "\n",
    "- $\\Vert u\\Vert_{\\infty}:=\\sup_{x\\in\\Omega} u(x)$, sup norm of a function\n",
    "\n",
    "- $h$ mesh size, $N$ number of dof.\n",
    "\n",
    "\n",
    "The following fundamental results holds:\n",
    "\n",
    "1. The solution of the problem is **unique**\n",
    "\n",
    "2. The **error is orthogonal to the space** $V$\n",
    "$$a(e,v)=0,\\; \\forall v\\in V$$\n",
    "3. The **finite element solution minimizes the error in the energy norm** \n",
    "\n",
    "4. The square of the energy norm of the error is the error in the potential energy:\n",
    "\n",
    "$$\n",
    "\\Vert u_{FE}-u_{EX} \\Vert_E^2 = \\mathcal{E}(u_{FE})-\\mathcal{E}(u_{EX})\n",
    "$$\n",
    "\n"
   ]
  },
  {
   "cell_type": "markdown",
   "metadata": {},
   "source": [
    "### Error estimators\n",
    "\n",
    "It it possible to show that, if the solution is smooth the sup norm of error of the finite element solution is approximate by the norm of the second derivative of the solution\n",
    "$$\\Vert u_{FE} - u_{EX} \\Vert_\\infty \\leq \\frac{h^2}{8} \\Vert u'' \\Vert_\\infty $$\n",
    "This kind of results are based on Taylor expansion estimates of the error of polynomial interpolant of the exact solution and that the FE solution is the best polynomial function to approximate the solution."
   ]
  },
  {
   "cell_type": "markdown",
   "metadata": {},
   "source": [
    "Also, we have this other fundamental result, which holds asymptotically for suffienctly large number of dof $N$:\n",
    "\n",
    "$$\\Vert u_{FE} - u_{EX} \\Vert_E\\sim\\frac{ c} {\\vert N \\vert^\\beta} $$\n",
    "\n",
    "where $\\beta$ is the **convergence rate**. For Lagrange element, **$\\beta$ should coincide with the polynomial order of the basis functions.**\n",
    "\n",
    "The formula above is fundamental. In logarithmic form it reads as\n",
    "\n",
    "\\begin{equation} \\log{\\Vert u_{FE} - u_{EX} \\Vert_E} \\sim \\log{ c} - \\beta \\log N \\end{equation}\n",
    "\n",
    "giving an easy way to identify from numerical experiments the convergence rate by the slope in log-log diagrams of the error as a function of the number of dof. "
   ]
  },
  {
   "cell_type": "markdown",
   "metadata": {},
   "source": [
    "A clear issue is that in most of the problem the exact solution is not available for comparisons. \n",
    "\n",
    "\n",
    "In practice one can estimate the convergence rate by using as reference the solution obtained on a very fine mesh, instead of the exact solution. \n",
    "\n",
    "A more consistent way of proceeding is based on the following relation\n",
    "\n",
    "$$\n",
    "\\mathcal{E}(u_N)-\\mathcal{E}(u_{EX})=\\frac{c^2}{N^{2\\beta}}\n",
    "\\quad\\Rightarrow\\quad  \n",
    "\\frac{\\mathcal{E}(u_N)-\\mathcal{E}(u_{EX})}{\\mathcal{E}(u_{M})-\\mathcal{E}(u_{EX})}= \\left(\\frac{M}{N}\\right)^{2\\beta}\n",
    "$$\n"
   ]
  },
  {
   "cell_type": "markdown",
   "metadata": {},
   "source": [
    "# Example of convergence analysis"
   ]
  },
  {
   "cell_type": "code",
   "execution_count": 1,
   "metadata": {},
   "outputs": [
    {
     "ename": "RuntimeError",
     "evalue": "Parameter plotting_backend not found in Parameters object",
     "output_type": "error",
     "traceback": [
      "\u001b[0;31m---------------------------------------------------------------------------\u001b[0m",
      "\u001b[0;31mRuntimeError\u001b[0m                              Traceback (most recent call last)",
      "\u001b[0;32m<ipython-input-1-3ff6f318bfe4>\u001b[0m in \u001b[0;36m<module>\u001b[0;34m\u001b[0m\n\u001b[1;32m      1\u001b[0m \u001b[0mget_ipython\u001b[0m\u001b[0;34m(\u001b[0m\u001b[0;34m)\u001b[0m\u001b[0;34m.\u001b[0m\u001b[0mrun_line_magic\u001b[0m\u001b[0;34m(\u001b[0m\u001b[0;34m'matplotlib'\u001b[0m\u001b[0;34m,\u001b[0m \u001b[0;34m'inline'\u001b[0m\u001b[0;34m)\u001b[0m\u001b[0;34m\u001b[0m\u001b[0;34m\u001b[0m\u001b[0m\n\u001b[1;32m      2\u001b[0m \u001b[0;32mfrom\u001b[0m \u001b[0mfenics\u001b[0m \u001b[0;32mimport\u001b[0m \u001b[0;34m*\u001b[0m\u001b[0;34m\u001b[0m\u001b[0;34m\u001b[0m\u001b[0m\n\u001b[0;32m----> 3\u001b[0;31m \u001b[0mparameters\u001b[0m\u001b[0;34m[\u001b[0m\u001b[0;34m\"plotting_backend\"\u001b[0m\u001b[0;34m]\u001b[0m \u001b[0;34m=\u001b[0m \u001b[0;34m'matplotlib'\u001b[0m\u001b[0;34m\u001b[0m\u001b[0;34m\u001b[0m\u001b[0m\n\u001b[0m\u001b[1;32m      4\u001b[0m \u001b[0;32mimport\u001b[0m \u001b[0mmatplotlib\u001b[0m\u001b[0;34m.\u001b[0m\u001b[0mpyplot\u001b[0m \u001b[0;32mas\u001b[0m \u001b[0mplt\u001b[0m\u001b[0;34m\u001b[0m\u001b[0;34m\u001b[0m\u001b[0m\n",
      "\u001b[0;31mRuntimeError\u001b[0m: Parameter plotting_backend not found in Parameters object"
     ]
    }
   ],
   "source": [
    "%matplotlib inline\n",
    "from fenics import *\n",
    "parameters[\"plotting_backend\"] = 'matplotlib'\n",
    "import matplotlib.pyplot as plt"
   ]
  },
  {
   "cell_type": "markdown",
   "metadata": {},
   "source": [
    "### A poisson problem\n",
    "We consider a simple Poisson euqation on a rectangle and we use the method of manufactured solution to have a problem with a knwon non-trivial exact solution (see FEniCS Tutorial)"
   ]
  },
  {
   "cell_type": "code",
   "execution_count": null,
   "metadata": {},
   "outputs": [],
   "source": [
    "# Create mesh and define function space\n",
    "mesh = UnitSquareMesh(32, 32)\n",
    "V = FunctionSpace(mesh, \"Lagrange\", 1)\n",
    "\n",
    "# Define Dirichlet boundary (x = 0 or x = 1)\n",
    "def boundary(x, on_boundary):\n",
    "    return on_boundary\n",
    "\n",
    "# Define boundary condition\n",
    "u0 = Constant(0.0)\n",
    "bc = DirichletBC(V, u0, boundary)\n",
    "\n",
    "# Define rhs using Expression or symbolic expression\n",
    "x = SpatialCoordinate(mesh)\n",
    "f = (2.0*pi**2) * sin(pi*x[0]) * sin(pi*x[1])\n",
    "#f = Expression(\"2.0*DOLFIN_PI*DOLFIN_PI*sin(DOLFIN_PI*x[0])*sin(DOLFIN_PI*x[1])\", degree=4)\n",
    "\n",
    "# Define variational problem\n",
    "u = TrialFunction(V)\n",
    "v = TestFunction(V)\n",
    "a = inner(grad(u), grad(v))*dx\n",
    "L = f*v*dx(degree=4)  # Note specification of quadrature degree for integration\n",
    "\n",
    "# Compute solution\n",
    "u = Function(V)\n",
    "solve(a == L, u, bc)\n",
    "\n",
    "# Save solution in VTK format\n",
    "file = File(\"poisson.pvd\")\n",
    "file << u\n",
    "\n",
    "# Plot solution\n",
    "plot(u)\n",
    "plt.show()"
   ]
  },
  {
   "cell_type": "markdown",
   "metadata": {},
   "source": [
    "### Convergence analysis"
   ]
  },
  {
   "cell_type": "code",
   "execution_count": 3,
   "metadata": {},
   "outputs": [
    {
     "name": "stdout",
     "output_type": "stream",
     "text": [
      "n = 2 num_dofs = 9\n",
      "Calling FFC just-in-time (JIT) compiler, this may take some time.\n",
      "Calling FFC just-in-time (JIT) compiler, this may take some time.\n",
      "Calling FFC just-in-time (JIT) compiler, this may take some time.\n",
      "Calling FFC just-in-time (JIT) compiler, this may take some time.\n",
      "Calling FFC just-in-time (JIT) compiler, this may take some time.\n",
      "Calling FFC just-in-time (JIT) compiler, this may take some time.\n",
      "n = 4 num_dofs = 25\n",
      "n = 8 num_dofs = 81\n",
      "n = 16 num_dofs = 289\n",
      "n = 32 num_dofs = 1089\n",
      "n = 64 num_dofs = 4225\n",
      "n = 128 num_dofs = 16641\n",
      "n = 256 num_dofs = 66049\n",
      "Calling FFC just-in-time (JIT) compiler, this may take some time.\n",
      "n = 2 num_dofs = 25\n",
      "Calling FFC just-in-time (JIT) compiler, this may take some time.\n",
      "Calling FFC just-in-time (JIT) compiler, this may take some time.\n",
      "Calling FFC just-in-time (JIT) compiler, this may take some time.\n",
      "n = 4 num_dofs = 81\n",
      "n = 8 num_dofs = 289\n",
      "n = 16 num_dofs = 1089\n",
      "n = 32 num_dofs = 4225\n",
      "n = 64 num_dofs = 16641\n",
      "n = 128 num_dofs = 66049\n",
      "n = 256 num_dofs = 263169\n",
      "Convergence:\n",
      "h1: 5.0000e-01  2.5000e-01  1.2500e-01  6.2500e-02  3.1250e-02  1.5625e-02  7.8125e-03  3.9062e-03\n",
      "h2: 5.0000e-01  2.5000e-01  1.2500e-01  6.2500e-02  3.1250e-02  1.5625e-02  7.8125e-03  3.9062e-03\n",
      "N1: 9.0000e+00  2.5000e+01  8.1000e+01  2.8900e+02  1.0890e+03  4.2250e+03  1.6641e+04  6.6049e+04\n",
      "N2: 2.5000e+01  8.1000e+01  2.8900e+02  1.0890e+03  4.2250e+03  1.6641e+04  6.6049e+04  2.6317e+05\n",
      "e1: 1.5481e+00  8.4602e-01  4.3281e-01  2.1766e-01  1.0899e-01  5.4516e-02  2.7260e-02  1.3630e-02\n",
      "e2: 4.7672e-01  1.3015e-01  3.3436e-02  8.4222e-03  2.1097e-03  5.2770e-04  1.3194e-04  3.2986e-05\n"
     ]
    }
   ],
   "source": [
    "import pylab as p\n",
    "\n",
    "def solve_poisson(q, n):\n",
    "\n",
    "    # Create mesh and define function space\n",
    "    mesh = UnitSquareMesh(n, n)\n",
    "    V = FunctionSpace(mesh, \"Lagrange\", q)\n",
    "\n",
    "    # Print size of system\n",
    "    N = V.dim()\n",
    "    print(\"n = %d num_dofs = %d\" % (n, N))\n",
    "\n",
    "    # Define Dirichlet boundary (x = 0 or x = 1)\n",
    "    def boundary(x, on_boundary):\n",
    "        return on_boundary\n",
    "\n",
    "    # Define boundary condition\n",
    "    u0 = Constant(0.0)\n",
    "    bc = DirichletBC(V, u0, boundary)\n",
    "\n",
    "    # Define variational problem\n",
    "    u = TrialFunction(V)\n",
    "    v = TestFunction(V)\n",
    "    f = Expression(\"2.0*DOLFIN_PI*DOLFIN_PI*sin(DOLFIN_PI*x[0])*sin(DOLFIN_PI*x[1])\",\n",
    "            degree=4)\n",
    "    a = inner(grad(u), grad(v))*dx\n",
    "    L = f*v*dx\n",
    "\n",
    "    # Compute solution\n",
    "    u = Function(V)\n",
    "    solve(a == L, u, bc)\n",
    "\n",
    "    # Compute error\n",
    "    u_exact = Expression(\"sin(DOLFIN_PI*x[0])*sin(DOLFIN_PI*x[1])\", degree=4)\n",
    "    error = errornorm(u_exact, u, degree_rise=2, norm_type = \"H1\")\n",
    "\n",
    "    return 1.0 / n, N, error\n",
    "\n",
    "# Check convergence\n",
    "h1, N1, e1 = zip(*[solve_poisson(1, n) for n in [2, 4, 8, 16, 32, 64, 128, 256]])\n",
    "h2, N2, e2 = zip(*[solve_poisson(2, n) for n in [2, 4, 8, 16, 32, 64, 128, 256]])\n",
    "\n",
    "def fmt(values):\n",
    "    return \"  \".join(\"%.4e\" % v for v in values)\n",
    "print(\"Convergence:\")\n",
    "print(\"h1:\", fmt(h1))\n",
    "print(\"h2:\", fmt(h2))\n",
    "print(\"N1:\", fmt(N1))\n",
    "print(\"N2:\", fmt(N2))\n",
    "print(\"e1:\", fmt(e1))\n",
    "print(\"e2:\", fmt(e2))\n",
    "\n"
   ]
  },
  {
   "cell_type": "code",
   "execution_count": 5,
   "metadata": {},
   "outputs": [
    {
     "data": {
      "image/png": "[encoded data removed]",
      "text/plain": [
       "<Figure size 432x288 with 1 Axes>"
      ]
     },
     "metadata": {
      "needs_background": "light"
     },
     "output_type": "display_data"
    }
   ],
   "source": [
    "# Plot results\n",
    "enable_plot = True\n",
    "if enable_plot:\n",
    "    p.loglog(h1, e1, 'g-o')\n",
    "    p.loglog(h2, e2, 'b-o')\n",
    "    p.legend([\"P1\", \"P2\"], loc=\"lower right\")\n",
    "    p.xlabel(\"h\")\n",
    "    p.ylabel(\"e\")\n",
    "    p.grid(True)\n",
    "    p.show()"
   ]
  },
  {
   "cell_type": "markdown",
   "metadata": {},
   "source": [
    "Look at the following Section of the FEniCS tutorial for further details:\n",
    " * [5.5 Postprocessing computations](https://fenicsproject.org/pub/tutorial/html/._ftut1020.html#ch:poisson0:convrates)"
   ]
  }
 ],
 "metadata": {
  "kernelspec": {
   "display_name": "Python 3",
   "language": "python",
   "name": "python3"
  },
  "language_info": {
   "codemirror_mode": {
    "name": "ipython",
    "version": 3
   },
   "file_extension": ".py",
   "mimetype": "text/x-python",
   "name": "python",
   "nbconvert_exporter": "python",
   "pygments_lexer": "ipython3",
   "version": "3.7.3"
  }
 },
 "nbformat": 4,
 "nbformat_minor": 4
}
