{
 "cells": [
  {
   "cell_type": "code",
   "execution_count": 1,
   "metadata": {},
   "outputs": [],
   "source": [
    "\"\"\"\n",
    "FEniCS tutorial demo program: Poisson equation with Dirichlet conditions.\n",
    "Test problem is chosen to give an exact solution at all nodes of the mesh.\n",
    "  -Laplace(u) = f    in the unit square\n",
    "            u = u_D  on the boundary\n",
    "  u_D = 1 + x^2 + 2y^2\n",
    "    f = -6\n",
    "\"\"\"\n",
    "import dolfin \n",
    "import ufl\n",
    "import matplotlib.pyplot as plt"
   ]
  },
  {
   "cell_type": "markdown",
   "metadata": {},
   "source": [
    "# Create mesh and define function space\n"
   ]
  },
  {
   "cell_type": "code",
   "execution_count": 2,
   "metadata": {},
   "outputs": [
    {
     "data": {
      "text/plain": [
       "[<matplotlib.lines.Line2D at 0x11965c3c8>,\n",
       " <matplotlib.lines.Line2D at 0x11965ca20>]"
      ]
     },
     "execution_count": 2,
     "metadata": {},
     "output_type": "execute_result"
    },
    {
     "data": {
      "image/png": "[encoded data removed]",
      "text/plain": [
       "<Figure size 432x288 with 1 Axes>"
      ]
     },
     "metadata": {
      "needs_background": "light"
     },
     "output_type": "display_data"
    }
   ],
   "source": [
    "mesh = dolfin.UnitSquareMesh(8, 8)\n",
    "V = dolfin.FunctionSpace(mesh, 'P', 1)\n",
    "dolfin.plot(mesh)"
   ]
  },
  {
   "cell_type": "markdown",
   "metadata": {},
   "source": [
    "# Define variational problem"
   ]
  },
  {
   "cell_type": "code",
   "execution_count": 6,
   "metadata": {},
   "outputs": [],
   "source": [
    "u = dolfin.TrialFunction(V)\n",
    "v = dolfin.TestFunction(V)\n",
    "f = dolfin.Constant(-6.0)\n",
    "a = ufl.dot(.1*ufl.grad(u), ufl.grad(v))*dolfin.dx\n",
    "L = f*v*dolfin.dx"
   ]
  },
  {
   "cell_type": "markdown",
   "metadata": {},
   "source": [
    "# Define boundary condition"
   ]
  },
  {
   "cell_type": "code",
   "execution_count": 7,
   "metadata": {},
   "outputs": [],
   "source": [
    "u_D = dolfin.Expression('1 + x[0]*x[0] + 2*x[1]*x[1]', degree=2)\n",
    "def boundary(x, on_boundary):\n",
    "    return on_boundary\n",
    "bc = dolfin.DirichletBC(V, u_D, boundary)"
   ]
  },
  {
   "cell_type": "code",
   "execution_count": 13,
   "metadata": {},
   "outputs": [],
   "source": [
    "A, b = dolfin.assemble_system(a,L,bc)"
   ]
  },
  {
   "cell_type": "markdown",
   "metadata": {},
   "source": [
    "# Compute solution"
   ]
  },
  {
   "cell_type": "code",
   "execution_count": 16,
   "metadata": {},
   "outputs": [
    {
     "data": {
      "text/plain": [
       "1"
      ]
     },
     "execution_count": 16,
     "metadata": {},
     "output_type": "execute_result"
    }
   ],
   "source": [
    "u = dolfin.Function(V,name=\"u\")\n",
    "dolfin.solve(A,u.vector(),b,\"mumps\")"
   ]
  },
  {
   "cell_type": "code",
   "execution_count": 21,
   "metadata": {},
   "outputs": [
    {
     "data": {
      "text/plain": [
       "{'bicgstab': 'Biconjugate gradient stabilized method',\n",
       " 'cg': 'Conjugate gradient method',\n",
       " 'default': 'default linear solver',\n",
       " 'gmres': 'Generalized minimal residual method',\n",
       " 'minres': 'Minimal residual method',\n",
       " 'mumps': 'MUMPS (MUltifrontal Massively Parallel Sparse direct Solver)',\n",
       " 'petsc': 'PETSc built in LU solver',\n",
       " 'richardson': 'Richardson method',\n",
       " 'tfqmr': 'Transpose-free quasi-minimal residual method',\n",
       " 'umfpack': 'UMFPACK (Unsymmetric MultiFrontal sparse LU factorization)'}"
      ]
     },
     "execution_count": 21,
     "metadata": {},
     "output_type": "execute_result"
    }
   ],
   "source": [
    "dolfin.linear_solver_methods()"
   ]
  },
  {
   "cell_type": "markdown",
   "metadata": {},
   "source": [
    "# Plot and save the solution"
   ]
  },
  {
   "cell_type": "code",
   "execution_count": 20,
   "metadata": {},
   "outputs": [
    {
     "data": {
      "image/png": "[encoded data removed]",
      "text/plain": [
       "<Figure size 432x288 with 1 Axes>"
      ]
     },
     "metadata": {
      "needs_background": "light"
     },
     "output_type": "display_data"
    }
   ],
   "source": [
    "# Plot solution and mesh\n",
    "dolfin.plot(u)\n",
    "#dolfin.plot(mesh)\n",
    "\n",
    "# Save solution to file in VTK format\n",
    "with dolfin.XDMFFile(mesh.mpi_comm(), \"output/bar.xdmf\") as file: \n",
    "    file.write(u)\n"
   ]
  },
  {
   "cell_type": "code",
   "execution_count": null,
   "metadata": {},
   "outputs": [],
   "source": []
  }
 ],
 "metadata": {
  "kernelspec": {
   "display_name": "Python 3",
   "language": "python",
   "name": "python3"
  },
  "language_info": {
   "codemirror_mode": {
    "name": "ipython",
    "version": 3
   },
   "file_extension": ".py",
   "mimetype": "text/x-python",
   "name": "python",
   "nbconvert_exporter": "python",
   "pygments_lexer": "ipython3",
   "version": "3.7.3"
  }
 },
 "nbformat": 4,
 "nbformat_minor": 4
}
